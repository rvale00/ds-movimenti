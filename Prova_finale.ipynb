{
 "cells": [
  {
   "cell_type": "markdown",
   "metadata": {
    "pycharm": {
     "name": "#%% md\n"
    }
   },
   "source": [
    "### Valeria Rebagliati 4852454\n",
    "#### dataset 12: movimenti\n",
    "\n",
    "\n",
    "# Introduzione\n",
    "\n",
    "Vengono forniti due dataset, il primo position che rappresenta i muovimenti e le cordinate degli spostamenti nel tempo, il secondo feature, che associa al primo varie feature per ogni azione; le feature danno informazioni sulle azioni dividendosi in tre macro-gruppi che sono: displacement, frequency, dynamic.\n",
    "Per ogni azione svolta da un certo individuo (in totale 16 persone) vengono raccolti 2 video. Per tracciare l'azione vengono presi dei riferimenti nel corpo che chiameremo giunti e sono: occhi, naso, orecchie, spalle, gomiti e polsi.\n",
    "\n",
    "# Obiettivi\n",
    "\n",
    "Confronterò azioni simili rispetto alle loro proprietà cinematiche ovvero usando le propietà di:\n",
    "- spostamento\n",
    "- velocità\n",
    "- accelerazione \n",
    "- derivate delle precedenti\n",
    "\n",
    "\n",
    "Per quanto riguarda i gruppi di azioni abbiamo quindi:\n",
    "* trasporto - tocco (di cubo di rubik e bottiglia)\n",
    "* bere - mangiare patatine \n",
    "* lavarsi le mani - aprire una bottiglia - giocare con il cubo di rubik\n"
   ]
  },
  {
   "cell_type": "code",
   "execution_count": 1,
   "metadata": {
    "pycharm": {
     "name": "#%%\n"
    }
   },
   "outputs": [],
   "source": [
    "import pandas as pd\n",
    "import numpy as np\n",
    "idx = pd.IndexSlice\n",
    "\n",
    "import matplotlib.pyplot as plt\n",
    "import sklearn \n",
    "\n",
    "\n",
    "from sklearn import preprocessing\n",
    "from sklearn.cluster import KMeans\n",
    "\n",
    "import scipy.stats as stats\n",
    "\n",
    "from sklearn.linear_model import LogisticRegression\n",
    "from sklearn.metrics import ConfusionMatrixDisplay\n",
    "\n",
    "from sklearn import decomposition\n"
   ]
  },
  {
   "cell_type": "code",
   "execution_count": 2,
   "metadata": {
    "pycharm": {
     "name": "#%%\n"
    }
   },
   "outputs": [],
   "source": [
    "positions_3d = \"positions_3d.csv\"\n",
    "features = \"features.parquet.gz\""
   ]
  },
  {
   "cell_type": "code",
   "execution_count": 3,
   "metadata": {},
   "outputs": [
    {
     "name": "stdout",
     "output_type": "stream",
     "text": [
      "1.1.1\n"
     ]
    }
   ],
   "source": [
    "#versione di sklearn utilizzata\n",
    "print(sklearn.__version__)\n",
    "#%pip install -U scikit-learn"
   ]
  },
  {
   "cell_type": "code",
   "execution_count": 4,
   "metadata": {
    "pycharm": {
     "name": "#%%\n"
    }
   },
   "outputs": [],
   "source": [
    "positions_df = pd.read_csv(positions_3d, header=[0, 1], index_col=[0, 1, 2, 3]).astype(np.float16)"
   ]
  },
  {
   "cell_type": "markdown",
   "metadata": {},
   "source": [
    "### Esplorazione\n",
    "Vediamo informazioni di base relative al dataset position"
   ]
  },
  {
   "cell_type": "code",
   "execution_count": 5,
   "metadata": {
    "pycharm": {
     "name": "#%%\n"
    }
   },
   "outputs": [
    {
     "data": {
      "text/html": [
       "<div>\n",
       "<style scoped>\n",
       "    .dataframe tbody tr th:only-of-type {\n",
       "        vertical-align: middle;\n",
       "    }\n",
       "\n",
       "    .dataframe tbody tr th {\n",
       "        vertical-align: top;\n",
       "    }\n",
       "\n",
       "    .dataframe thead tr th {\n",
       "        text-align: left;\n",
       "    }\n",
       "\n",
       "    .dataframe thead tr:last-of-type th {\n",
       "        text-align: right;\n",
       "    }\n",
       "</style>\n",
       "<table border=\"1\" class=\"dataframe\">\n",
       "  <thead>\n",
       "    <tr>\n",
       "      <th></th>\n",
       "      <th></th>\n",
       "      <th></th>\n",
       "      <th>joint</th>\n",
       "      <th colspan=\"3\" halign=\"left\">lear</th>\n",
       "      <th colspan=\"3\" halign=\"left\">lelbow</th>\n",
       "      <th colspan=\"3\" halign=\"left\">leye</th>\n",
       "      <th>lshoulder</th>\n",
       "      <th>...</th>\n",
       "      <th>relbow</th>\n",
       "      <th colspan=\"3\" halign=\"left\">reye</th>\n",
       "      <th colspan=\"3\" halign=\"left\">rshoulder</th>\n",
       "      <th colspan=\"3\" halign=\"left\">rwrist</th>\n",
       "    </tr>\n",
       "    <tr>\n",
       "      <th></th>\n",
       "      <th></th>\n",
       "      <th></th>\n",
       "      <th>variable</th>\n",
       "      <th>x</th>\n",
       "      <th>y</th>\n",
       "      <th>z</th>\n",
       "      <th>x</th>\n",
       "      <th>y</th>\n",
       "      <th>z</th>\n",
       "      <th>x</th>\n",
       "      <th>y</th>\n",
       "      <th>z</th>\n",
       "      <th>x</th>\n",
       "      <th>...</th>\n",
       "      <th>z</th>\n",
       "      <th>x</th>\n",
       "      <th>y</th>\n",
       "      <th>z</th>\n",
       "      <th>x</th>\n",
       "      <th>y</th>\n",
       "      <th>z</th>\n",
       "      <th>x</th>\n",
       "      <th>y</th>\n",
       "      <th>z</th>\n",
       "    </tr>\n",
       "    <tr>\n",
       "      <th>individual</th>\n",
       "      <th>action</th>\n",
       "      <th>sample</th>\n",
       "      <th>frame</th>\n",
       "      <th></th>\n",
       "      <th></th>\n",
       "      <th></th>\n",
       "      <th></th>\n",
       "      <th></th>\n",
       "      <th></th>\n",
       "      <th></th>\n",
       "      <th></th>\n",
       "      <th></th>\n",
       "      <th></th>\n",
       "      <th></th>\n",
       "      <th></th>\n",
       "      <th></th>\n",
       "      <th></th>\n",
       "      <th></th>\n",
       "      <th></th>\n",
       "      <th></th>\n",
       "      <th></th>\n",
       "      <th></th>\n",
       "      <th></th>\n",
       "      <th></th>\n",
       "    </tr>\n",
       "  </thead>\n",
       "  <tbody>\n",
       "    <tr>\n",
       "      <th rowspan=\"5\" valign=\"top\">0</th>\n",
       "      <th rowspan=\"5\" valign=\"top\">drinking</th>\n",
       "      <th rowspan=\"5\" valign=\"top\">0</th>\n",
       "      <th>0</th>\n",
       "      <td>514.5</td>\n",
       "      <td>-355.50</td>\n",
       "      <td>2058.0</td>\n",
       "      <td>626.0</td>\n",
       "      <td>134.000</td>\n",
       "      <td>1706.0</td>\n",
       "      <td>467.50</td>\n",
       "      <td>-369.00</td>\n",
       "      <td>2064.0</td>\n",
       "      <td>568.0</td>\n",
       "      <td>...</td>\n",
       "      <td>1678.0</td>\n",
       "      <td>366.50</td>\n",
       "      <td>-374.75</td>\n",
       "      <td>2070.0</td>\n",
       "      <td>128.750</td>\n",
       "      <td>-72.9375</td>\n",
       "      <td>1891.0</td>\n",
       "      <td>42.84375</td>\n",
       "      <td>200.75</td>\n",
       "      <td>1469.0</td>\n",
       "    </tr>\n",
       "    <tr>\n",
       "      <th>1</th>\n",
       "      <td>515.0</td>\n",
       "      <td>-357.50</td>\n",
       "      <td>2060.0</td>\n",
       "      <td>626.0</td>\n",
       "      <td>134.000</td>\n",
       "      <td>1706.0</td>\n",
       "      <td>467.75</td>\n",
       "      <td>-371.00</td>\n",
       "      <td>2066.0</td>\n",
       "      <td>565.5</td>\n",
       "      <td>...</td>\n",
       "      <td>1682.0</td>\n",
       "      <td>366.75</td>\n",
       "      <td>-377.00</td>\n",
       "      <td>2072.0</td>\n",
       "      <td>128.875</td>\n",
       "      <td>-74.8750</td>\n",
       "      <td>1892.0</td>\n",
       "      <td>41.43750</td>\n",
       "      <td>200.00</td>\n",
       "      <td>1473.0</td>\n",
       "    </tr>\n",
       "    <tr>\n",
       "      <th>2</th>\n",
       "      <td>515.0</td>\n",
       "      <td>-357.50</td>\n",
       "      <td>2060.0</td>\n",
       "      <td>626.0</td>\n",
       "      <td>134.000</td>\n",
       "      <td>1706.0</td>\n",
       "      <td>466.00</td>\n",
       "      <td>-373.25</td>\n",
       "      <td>2066.0</td>\n",
       "      <td>565.5</td>\n",
       "      <td>...</td>\n",
       "      <td>1682.0</td>\n",
       "      <td>366.75</td>\n",
       "      <td>-377.00</td>\n",
       "      <td>2072.0</td>\n",
       "      <td>128.875</td>\n",
       "      <td>-74.8750</td>\n",
       "      <td>1892.0</td>\n",
       "      <td>41.43750</td>\n",
       "      <td>200.00</td>\n",
       "      <td>1473.0</td>\n",
       "    </tr>\n",
       "    <tr>\n",
       "      <th>3</th>\n",
       "      <td>515.0</td>\n",
       "      <td>-357.50</td>\n",
       "      <td>2060.0</td>\n",
       "      <td>626.0</td>\n",
       "      <td>134.000</td>\n",
       "      <td>1706.0</td>\n",
       "      <td>466.00</td>\n",
       "      <td>-373.25</td>\n",
       "      <td>2066.0</td>\n",
       "      <td>565.5</td>\n",
       "      <td>...</td>\n",
       "      <td>1682.0</td>\n",
       "      <td>367.00</td>\n",
       "      <td>-379.25</td>\n",
       "      <td>2074.0</td>\n",
       "      <td>128.875</td>\n",
       "      <td>-74.8750</td>\n",
       "      <td>1892.0</td>\n",
       "      <td>41.43750</td>\n",
       "      <td>200.00</td>\n",
       "      <td>1473.0</td>\n",
       "    </tr>\n",
       "    <tr>\n",
       "      <th>4</th>\n",
       "      <td>515.5</td>\n",
       "      <td>-359.75</td>\n",
       "      <td>2062.0</td>\n",
       "      <td>628.5</td>\n",
       "      <td>134.125</td>\n",
       "      <td>1707.0</td>\n",
       "      <td>466.00</td>\n",
       "      <td>-373.25</td>\n",
       "      <td>2066.0</td>\n",
       "      <td>565.5</td>\n",
       "      <td>...</td>\n",
       "      <td>1682.0</td>\n",
       "      <td>367.00</td>\n",
       "      <td>-379.25</td>\n",
       "      <td>2074.0</td>\n",
       "      <td>128.875</td>\n",
       "      <td>-74.8750</td>\n",
       "      <td>1892.0</td>\n",
       "      <td>41.43750</td>\n",
       "      <td>200.00</td>\n",
       "      <td>1473.0</td>\n",
       "    </tr>\n",
       "  </tbody>\n",
       "</table>\n",
       "<p>5 rows × 33 columns</p>\n",
       "</div>"
      ],
      "text/plain": [
       "joint                              lear                 lelbow           \\\n",
       "variable                              x       y       z      x        y   \n",
       "individual action   sample frame                                          \n",
       "0          drinking 0      0      514.5 -355.50  2058.0  626.0  134.000   \n",
       "                           1      515.0 -357.50  2060.0  626.0  134.000   \n",
       "                           2      515.0 -357.50  2060.0  626.0  134.000   \n",
       "                           3      515.0 -357.50  2060.0  626.0  134.000   \n",
       "                           4      515.5 -359.75  2062.0  628.5  134.125   \n",
       "\n",
       "joint                                       leye                 lshoulder  \\\n",
       "variable                               z       x       y       z         x   \n",
       "individual action   sample frame                                             \n",
       "0          drinking 0      0      1706.0  467.50 -369.00  2064.0     568.0   \n",
       "                           1      1706.0  467.75 -371.00  2066.0     565.5   \n",
       "                           2      1706.0  466.00 -373.25  2066.0     565.5   \n",
       "                           3      1706.0  466.00 -373.25  2066.0     565.5   \n",
       "                           4      1707.0  466.00 -373.25  2066.0     565.5   \n",
       "\n",
       "joint                             ...  relbow    reye                  \\\n",
       "variable                          ...       z       x       y       z   \n",
       "individual action   sample frame  ...                                   \n",
       "0          drinking 0      0      ...  1678.0  366.50 -374.75  2070.0   \n",
       "                           1      ...  1682.0  366.75 -377.00  2072.0   \n",
       "                           2      ...  1682.0  366.75 -377.00  2072.0   \n",
       "                           3      ...  1682.0  367.00 -379.25  2074.0   \n",
       "                           4      ...  1682.0  367.00 -379.25  2074.0   \n",
       "\n",
       "joint                            rshoulder                     rwrist          \\\n",
       "variable                                 x        y       z         x       y   \n",
       "individual action   sample frame                                                \n",
       "0          drinking 0      0       128.750 -72.9375  1891.0  42.84375  200.75   \n",
       "                           1       128.875 -74.8750  1892.0  41.43750  200.00   \n",
       "                           2       128.875 -74.8750  1892.0  41.43750  200.00   \n",
       "                           3       128.875 -74.8750  1892.0  41.43750  200.00   \n",
       "                           4       128.875 -74.8750  1892.0  41.43750  200.00   \n",
       "\n",
       "joint                                     \n",
       "variable                               z  \n",
       "individual action   sample frame          \n",
       "0          drinking 0      0      1469.0  \n",
       "                           1      1473.0  \n",
       "                           2      1473.0  \n",
       "                           3      1473.0  \n",
       "                           4      1473.0  \n",
       "\n",
       "[5 rows x 33 columns]"
      ]
     },
     "execution_count": 5,
     "metadata": {},
     "output_type": "execute_result"
    }
   ],
   "source": [
    "positions_df.head()"
   ]
  },
  {
   "cell_type": "code",
   "execution_count": 6,
   "metadata": {
    "pycharm": {
     "name": "#%%\n"
    }
   },
   "outputs": [
    {
     "data": {
      "text/plain": [
       "(59941, 33)"
      ]
     },
     "execution_count": 6,
     "metadata": {},
     "output_type": "execute_result"
    }
   ],
   "source": [
    "positions_df.shape"
   ]
  },
  {
   "cell_type": "code",
   "execution_count": 7,
   "metadata": {
    "pycharm": {
     "name": "#%%\n"
    }
   },
   "outputs": [
    {
     "data": {
      "text/plain": [
       "joint      variable\n",
       "lear       x           float16\n",
       "           y           float16\n",
       "           z           float16\n",
       "lelbow     x           float16\n",
       "           y           float16\n",
       "           z           float16\n",
       "leye       x           float16\n",
       "           y           float16\n",
       "           z           float16\n",
       "lshoulder  x           float16\n",
       "           y           float16\n",
       "           z           float16\n",
       "lwrist     x           float16\n",
       "           y           float16\n",
       "           z           float16\n",
       "nose       x           float16\n",
       "           y           float16\n",
       "           z           float16\n",
       "rear       x           float16\n",
       "           y           float16\n",
       "           z           float16\n",
       "relbow     x           float16\n",
       "           y           float16\n",
       "           z           float16\n",
       "reye       x           float16\n",
       "           y           float16\n",
       "           z           float16\n",
       "rshoulder  x           float16\n",
       "           y           float16\n",
       "           z           float16\n",
       "rwrist     x           float16\n",
       "           y           float16\n",
       "           z           float16\n",
       "dtype: object"
      ]
     },
     "execution_count": 7,
     "metadata": {},
     "output_type": "execute_result"
    }
   ],
   "source": [
    "positions_df.dtypes"
   ]
  },
  {
   "cell_type": "markdown",
   "metadata": {},
   "source": [
    "**Livelli del dataset**"
   ]
  },
  {
   "cell_type": "code",
   "execution_count": 8,
   "metadata": {
    "pycharm": {
     "name": "#%%\n"
    }
   },
   "outputs": [
    {
     "name": "stdout",
     "output_type": "stream",
     "text": [
      "individual : Int64Index([0, 1, 2, 3, 4, 5, 6, 7, 8, 9, 10, 11, 12, 13, 14, 15], dtype='int64', name='individual') \n",
      "\n",
      "action : Index(['drinking', 'eat_crisp', 'open_close_bottle', 'rubiks_cube', 'sanitise',\n",
      "       'touch_bottle', 'touch_rubiks_cube', 'transport_bottle',\n",
      "       'transport_pen', 'transport_rubiks_cube'],\n",
      "      dtype='object', name='action') \n",
      "\n",
      "sample : Int64Index([0, 1, 2], dtype='int64', name='sample') \n",
      "\n",
      "frame : Int64Index([  0,   1,   2,   3,   4,   5,   6,   7,   8,   9,\n",
      "            ...\n",
      "            459, 460, 461, 462, 463, 464, 465, 466, 467, 468],\n",
      "           dtype='int64', name='frame', length=469) \n",
      "\n"
     ]
    }
   ],
   "source": [
    "for i in range(positions_df.index.nlevels):\n",
    "    index = positions_df.index.get_level_values(i).unique()\n",
    "    print(index.name, \":\", index, \"\\n\")"
   ]
  },
  {
   "cell_type": "code",
   "execution_count": 9,
   "metadata": {
    "pycharm": {
     "name": "#%%\n"
    }
   },
   "outputs": [
    {
     "name": "stdout",
     "output_type": "stream",
     "text": [
      "joint : Index(['lear', 'lelbow', 'leye', 'lshoulder', 'lwrist', 'nose', 'rear',\n",
      "       'relbow', 'reye', 'rshoulder', 'rwrist'],\n",
      "      dtype='object', name='joint') \n",
      "\n",
      "variable : Index(['x', 'y', 'z'], dtype='object', name='variable') \n",
      "\n"
     ]
    }
   ],
   "source": [
    "for i in range(positions_df.columns.nlevels):\n",
    "    col = positions_df.columns.get_level_values(i).unique()\n",
    "    print(col.name, \":\", col, \"\\n\")"
   ]
  },
  {
   "cell_type": "markdown",
   "metadata": {},
   "source": [
    "### Visualizzazione\n",
    "Per avere un punto di partenza nell'analisi dei dati parto con la visualizzazione dei movimenti, attingendo dal primo dataset fornito, **posistion**; in questo modo sarà possibile formulare delle ipotesi su cui costruire test successivi.\n",
    "\n",
    "Per farlo ho costruito la funzione di seguito che, data un'azione, una lista di giunti e una persona restituirà il grafico del movimento dei giunti di quella persona mentre svolge quella determinata azione.\n",
    "In questo modo potremmo visualizzare il muovimento nello spazio con la traiettoria dei vari giunti."
   ]
  },
  {
   "cell_type": "code",
   "execution_count": 10,
   "metadata": {},
   "outputs": [],
   "source": [
    "def plot_action(action, joints, pearson):\n",
    "    \n",
    "    fig = plt.figure()\n",
    " \n",
    "    ax = plt.axes(projection ='3d')\n",
    "    \n",
    "    #rotazione di 180 rispetto a y e 180 rispetto a x\n",
    "    ax.view_init(90,90)\n",
    "    \n",
    "    ax.set_xlabel(\"x\")\n",
    "    ax.set_ylabel(\"y\")\n",
    "    ax.set_zlabel(\"z\")\n",
    "    \n",
    "    \n",
    "    for i in range(0, len(joints)):\n",
    "        \n",
    "        z = positions_df.loc[idx[ pearson, action, 0, :], idx[joints[i], \"z\"]]\n",
    "        x = positions_df.loc[idx[ pearson, action, 0, :], idx[joints[i], \"x\"]]\n",
    "        y = positions_df.loc[idx[ pearson, action, 0, :], idx[joints[i], \"y\"]]\n",
    "\n",
    "        ax.plot3D(x, y, z)\n",
    "\n",
    "    plt.show()\n",
    "    \n"
   ]
  },
  {
   "cell_type": "markdown",
   "metadata": {},
   "source": [
    "Prima di vedere i grafici, posso fare delle supposizioni su quello che vedrò:\n",
    "* i movimenti di tutte le componenti del viso per qualsiasi azione, saranno uguali ma con shift diversi, come i movimenti delle spalle, perchè stanno sullo stesso asse\n",
    "* i movimenti presi dai giunti delle braccia saranno meno \"rigidi\" e indipendenti rispetto a quelli sopra\n",
    "* le varie azioni di trasporto avranno movimenti simili\n",
    "* le varie azioni di tocco avranno movimenti simili\n",
    "\n",
    "Per completezza nella rappresentazione prenderò tutti i giunti per chiarire il movimento generale.\n",
    "\n",
    "Parto con la visualizzazione di trasporto bottiglia e a seguire tocco bottiglia:"
   ]
  },
  {
   "cell_type": "code",
   "execution_count": 11,
   "metadata": {
    "scrolled": true
   },
   "outputs": [
    {
     "data": {
      "image/png": "[encoded data removed]",
      "text/plain": [
       "<Figure size 432x288 with 1 Axes>"
      ]
     },
     "metadata": {
      "needs_background": "light"
     },
     "output_type": "display_data"
    }
   ],
   "source": [
    "joints = ['lear', 'lelbow', 'leye', 'lshoulder', 'lwrist', 'nose', 'rear', 'relbow', 'reye', 'rshoulder', 'rwrist']\n",
    "\n",
    "action = \"transport_bottle\"\n",
    "plot_action(action,joints,0)"
   ]
  },
  {
   "cell_type": "code",
   "execution_count": 12,
   "metadata": {},
   "outputs": [
    {
     "data": {
      "image/png": "[encoded data removed]",
      "text/plain": [
       "<Figure size 432x288 with 1 Axes>"
      ]
     },
     "metadata": {
      "needs_background": "light"
     },
     "output_type": "display_data"
    }
   ],
   "source": [
    "action = \"touch_bottle\"\n",
    "plot_action(action, joints, 0)"
   ]
  },
  {
   "cell_type": "markdown",
   "metadata": {},
   "source": [
    "Trasporto e tocco del cubo di rubik:"
   ]
  },
  {
   "cell_type": "code",
   "execution_count": 13,
   "metadata": {},
   "outputs": [
    {
     "data": {
      "image/png": "[encoded data removed]",
      "text/plain": [
       "<Figure size 432x288 with 1 Axes>"
      ]
     },
     "metadata": {
      "needs_background": "light"
     },
     "output_type": "display_data"
    }
   ],
   "source": [
    "action = \"transport_rubiks_cube\"\n",
    "plot_action(action,joints,0)"
   ]
  },
  {
   "cell_type": "code",
   "execution_count": 14,
   "metadata": {},
   "outputs": [
    {
     "data": {
      "image/png": "[encoded data removed]",
      "text/plain": [
       "<Figure size 432x288 with 1 Axes>"
      ]
     },
     "metadata": {
      "needs_background": "light"
     },
     "output_type": "display_data"
    }
   ],
   "source": [
    "action = \"touch_rubiks_cube\"\n",
    "plot_action(action, joints, 0)"
   ]
  },
  {
   "cell_type": "markdown",
   "metadata": {},
   "source": [
    "Bere e mangiare patatine:"
   ]
  },
  {
   "cell_type": "code",
   "execution_count": 15,
   "metadata": {},
   "outputs": [
    {
     "data": {
      "image/png": "[encoded data removed]",
      "text/plain": [
       "<Figure size 432x288 with 1 Axes>"
      ]
     },
     "metadata": {
      "needs_background": "light"
     },
     "output_type": "display_data"
    }
   ],
   "source": [
    "action = \"drinking\"\n",
    "plot_action(action,joints,0)"
   ]
  },
  {
   "cell_type": "code",
   "execution_count": 16,
   "metadata": {},
   "outputs": [
    {
     "data": {
      "image/png": "[encoded data removed]",
      "text/plain": [
       "<Figure size 432x288 with 1 Axes>"
      ]
     },
     "metadata": {
      "needs_background": "light"
     },
     "output_type": "display_data"
    }
   ],
   "source": [
    "action = \"eat_crisp\"\n",
    "plot_action(action,joints,0)"
   ]
  },
  {
   "cell_type": "markdown",
   "metadata": {},
   "source": [
    "Laversi le mani, aprire e chiudere una bottiglia e giocare con il cubo di rubik:"
   ]
  },
  {
   "cell_type": "code",
   "execution_count": 17,
   "metadata": {},
   "outputs": [
    {
     "data": {
      "image/png": "[encoded data removed]",
      "text/plain": [
       "<Figure size 432x288 with 1 Axes>"
      ]
     },
     "metadata": {
      "needs_background": "light"
     },
     "output_type": "display_data"
    }
   ],
   "source": [
    "action = \"sanitise\"\n",
    "plot_action(action,joints,0)"
   ]
  },
  {
   "cell_type": "code",
   "execution_count": 18,
   "metadata": {},
   "outputs": [
    {
     "data": {
      "image/png": "[encoded data removed]",
      "text/plain": [
       "<Figure size 432x288 with 1 Axes>"
      ]
     },
     "metadata": {
      "needs_background": "light"
     },
     "output_type": "display_data"
    }
   ],
   "source": [
    "action = \"open_close_bottle\"\n",
    "plot_action(action,joints,0)"
   ]
  },
  {
   "cell_type": "code",
   "execution_count": 19,
   "metadata": {},
   "outputs": [
    {
     "data": {
      "image/png": "[encoded data removed]",
      "text/plain": [
       "<Figure size 432x288 with 1 Axes>"
      ]
     },
     "metadata": {
      "needs_background": "light"
     },
     "output_type": "display_data"
    }
   ],
   "source": [
    "action = \"rubiks_cube\"\n",
    "plot_action(action,joints,0)"
   ]
  },
  {
   "cell_type": "markdown",
   "metadata": {},
   "source": [
    "Da una prima analisi visiva possiamo dire che come ci aspettavamo tutti i giunti del viso tracciano lo stesso disegno nello spazio. Stessa cosa per le spalle, anche se in generale, se la persona ruota la testa o le spalle verso destra o sinistra, la telecamera potrebbe non vedere più i giunti di riferimento e di conseguenza i dati potrebbero subire del rumore. \n",
    "I movimenti dei polsi non sono simmetrici fatta esclusione per l'azione di sanitise.\n",
    "\n",
    "Notiamo subito che qualsiasi sia l'oggetto trasportato la traiettoria del movimento è molto simile per tutti i traporti, anche se varia l'ampiezza.\n",
    "I muovimenti del viso seguono quello del braccio destro che trasporta l'oggetto.\n",
    "\n",
    "Notiamo che le azioni di trasporto sono comprese nelle altre azioni, infatti prima di compiere l'azione vera e propria, l'individuo prende l'oggetto necessario per compiere l'azione, e questo provoca rumore nell' analisi del singolo movimento; questa cosa non si nota nell'azione di sanitise, probabilmente perchè l'individuo simula l'azione e non prende effettivamente il gel.\n",
    "\n",
    "Infine notiamo che per l'individuo 0 il tocco e il trasporto della bottiglia non sono troppo simili, infatti la traiettoria del muovimento è simile ma nel tocco ha un'ampiezza minore; probabilmente questo dipende dalla posizione dell'oggetto sul tavolo rispetto all'individuo.\n",
    "Per il tocco e il traporto del cubo di rubik per l'individuo 0 notiamo invece una somiglianza più forte, questo probabilmente è dovuto alla posizione dell'oggetto come detto precedentemente per la bottiglia.\n",
    "Assumendo di prendere gli oggetti con la mano destra, se l'oggetto è alla propria destra il movimento sarà minimo, come forse è accaduto nel tocco della bottiglia, invece se è alla sinistra come forse è stato nel tocco del cubo di rubik il movimento totale è più simile al trasporto.\n",
    "\n",
    "Le spalle fanno un movimento minimo come ci si poteva aspettare e i gomiti \"seguono\" il muovimento del relativo polso, quello destro traccia un muovimento simile ma meno ampio e quello sinistro fa movimenti impercettibili come il relativo polso."
   ]
  },
  {
   "cell_type": "markdown",
   "metadata": {
    "pycharm": {
     "name": "#%% md\n"
    }
   },
   "source": [
    "# Features\n",
    "\n",
    "units: meters and seconds"
   ]
  },
  {
   "cell_type": "code",
   "execution_count": 20,
   "metadata": {
    "pycharm": {
     "name": "#%%\n"
    }
   },
   "outputs": [],
   "source": [
    "features_df = pd.read_parquet(features).applymap(lambda x: x.astype(np.float16))"
   ]
  },
  {
   "cell_type": "markdown",
   "metadata": {},
   "source": [
    "### Esplorazione\n",
    "Vediamo informazioni di base relative al dataset feature"
   ]
  },
  {
   "cell_type": "code",
   "execution_count": 21,
   "metadata": {
    "pycharm": {
     "name": "#%%\n"
    }
   },
   "outputs": [
    {
     "data": {
      "text/html": [
       "<div>\n",
       "<style scoped>\n",
       "    .dataframe tbody tr th:only-of-type {\n",
       "        vertical-align: middle;\n",
       "    }\n",
       "\n",
       "    .dataframe tbody tr th {\n",
       "        vertical-align: top;\n",
       "    }\n",
       "\n",
       "    .dataframe thead tr th {\n",
       "        text-align: left;\n",
       "    }\n",
       "\n",
       "    .dataframe thead tr:last-of-type th {\n",
       "        text-align: right;\n",
       "    }\n",
       "</style>\n",
       "<table border=\"1\" class=\"dataframe\">\n",
       "  <thead>\n",
       "    <tr>\n",
       "      <th></th>\n",
       "      <th></th>\n",
       "      <th></th>\n",
       "      <th>type_feature</th>\n",
       "      <th colspan=\"8\" halign=\"left\">displacement</th>\n",
       "      <th colspan=\"2\" halign=\"left\">frequency</th>\n",
       "      <th>...</th>\n",
       "      <th colspan=\"10\" halign=\"left\">dynamic</th>\n",
       "    </tr>\n",
       "    <tr>\n",
       "      <th></th>\n",
       "      <th></th>\n",
       "      <th></th>\n",
       "      <th>data</th>\n",
       "      <th colspan=\"8\" halign=\"left\">positions</th>\n",
       "      <th colspan=\"2\" halign=\"left\">positions</th>\n",
       "      <th>...</th>\n",
       "      <th colspan=\"10\" halign=\"left\">jerk</th>\n",
       "    </tr>\n",
       "    <tr>\n",
       "      <th></th>\n",
       "      <th></th>\n",
       "      <th></th>\n",
       "      <th>feature</th>\n",
       "      <th colspan=\"4\" halign=\"left\">max_displacement</th>\n",
       "      <th colspan=\"4\" halign=\"left\">total_displacement</th>\n",
       "      <th>peak_power_density</th>\n",
       "      <th>entropy_power_density</th>\n",
       "      <th>...</th>\n",
       "      <th colspan=\"2\" halign=\"left\">standard_deviation</th>\n",
       "      <th colspan=\"4\" halign=\"left\">skewness</th>\n",
       "      <th colspan=\"4\" halign=\"left\">kurtosis</th>\n",
       "    </tr>\n",
       "    <tr>\n",
       "      <th></th>\n",
       "      <th></th>\n",
       "      <th></th>\n",
       "      <th>variable</th>\n",
       "      <th>x</th>\n",
       "      <th>y</th>\n",
       "      <th>z</th>\n",
       "      <th>magnitude</th>\n",
       "      <th>x</th>\n",
       "      <th>y</th>\n",
       "      <th>z</th>\n",
       "      <th>magnitude</th>\n",
       "      <th>magnitude</th>\n",
       "      <th>magnitude</th>\n",
       "      <th>...</th>\n",
       "      <th>z</th>\n",
       "      <th>magnitude</th>\n",
       "      <th>x</th>\n",
       "      <th>y</th>\n",
       "      <th>z</th>\n",
       "      <th>magnitude</th>\n",
       "      <th>x</th>\n",
       "      <th>y</th>\n",
       "      <th>z</th>\n",
       "      <th>magnitude</th>\n",
       "    </tr>\n",
       "    <tr>\n",
       "      <th>joint</th>\n",
       "      <th>person</th>\n",
       "      <th>action</th>\n",
       "      <th>sample</th>\n",
       "      <th></th>\n",
       "      <th></th>\n",
       "      <th></th>\n",
       "      <th></th>\n",
       "      <th></th>\n",
       "      <th></th>\n",
       "      <th></th>\n",
       "      <th></th>\n",
       "      <th></th>\n",
       "      <th></th>\n",
       "      <th></th>\n",
       "      <th></th>\n",
       "      <th></th>\n",
       "      <th></th>\n",
       "      <th></th>\n",
       "      <th></th>\n",
       "      <th></th>\n",
       "      <th></th>\n",
       "      <th></th>\n",
       "      <th></th>\n",
       "      <th></th>\n",
       "    </tr>\n",
       "  </thead>\n",
       "  <tbody>\n",
       "    <tr>\n",
       "      <th>lear</th>\n",
       "      <th>0</th>\n",
       "      <th>drinking</th>\n",
       "      <th>0</th>\n",
       "      <td>[0.015, 0.0205, 0.0285, 0.036, 0.044, 0.054, 0...</td>\n",
       "      <td>[0.02174, 0.02824, 0.03275, 0.03925, 0.04575, ...</td>\n",
       "      <td>[0.014, 0.017, 0.019, 0.022, 0.024, 0.025, 0.0...</td>\n",
       "      <td>[0.0299, 0.03882, 0.0474, 0.05762, 0.0679, 0.0...</td>\n",
       "      <td>[0.015, 0.02, 0.028, 0.0355, 0.043, 0.053, 0.0...</td>\n",
       "      <td>[0.01525, 0.02374, 0.02824, 0.03476, 0.0435, 0...</td>\n",
       "      <td>[-0.008, -0.013, -0.015, -0.018, -0.022, -0.02...</td>\n",
       "      <td>[0.02284, 0.03366, 0.0425, 0.05283, 0.065, 0.0...</td>\n",
       "      <td>[1.0, 6.8e-06, 1.0, 7.4e-06, 1.0, 8.1e-06, 1.0...</td>\n",
       "      <td>[1.472, 1.395, 1.309, 1.269, 1.241, 1.194, 1.1...</td>\n",
       "      <td>...</td>\n",
       "      <td>[82.8, 82.8, 82.25, 80.4, 81.1, 82.56, 82.56, ...</td>\n",
       "      <td>[57.47, 57.4, 57.6, 57.0, 57.44, 57.56, 57.72,...</td>\n",
       "      <td>[-0.0637, -0.0846, -0.1206, -0.09357, -0.05557...</td>\n",
       "      <td>[-0.1113, -0.1113, -0.1113, -0.1113, -0.1523, ...</td>\n",
       "      <td>[-0.1719, -0.1719, -0.11523, -0.11865, -0.1257...</td>\n",
       "      <td>[-0.105, -0.11, -0.09686, -0.08685, -0.15, -0....</td>\n",
       "      <td>[1.333, 1.287, 1.177, 1.007, 1.312, 1.464, 1.1...</td>\n",
       "      <td>[-0.967, -0.967, -0.967, -0.967, -1.022, -1.08...</td>\n",
       "      <td>[-0.579, -0.579, -0.519, -0.3667, -0.4387, -0....</td>\n",
       "      <td>[-0.273, -0.2603, -0.2954, -0.2081, -0.2808, -...</td>\n",
       "    </tr>\n",
       "  </tbody>\n",
       "</table>\n",
       "<p>1 rows × 158 columns</p>\n",
       "</div>"
      ],
      "text/plain": [
       "type_feature                                                       displacement  \\\n",
       "data                                                                  positions   \n",
       "feature                                                        max_displacement   \n",
       "variable                                                                      x   \n",
       "joint person action   sample                                                      \n",
       "lear  0      drinking 0       [0.015, 0.0205, 0.0285, 0.036, 0.044, 0.054, 0...   \n",
       "\n",
       "type_feature                                                                     \\\n",
       "data                                                                              \n",
       "feature                                                                           \n",
       "variable                                                                      y   \n",
       "joint person action   sample                                                      \n",
       "lear  0      drinking 0       [0.02174, 0.02824, 0.03275, 0.03925, 0.04575, ...   \n",
       "\n",
       "type_feature                                                                     \\\n",
       "data                                                                              \n",
       "feature                                                                           \n",
       "variable                                                                      z   \n",
       "joint person action   sample                                                      \n",
       "lear  0      drinking 0       [0.014, 0.017, 0.019, 0.022, 0.024, 0.025, 0.0...   \n",
       "\n",
       "type_feature                                                                     \\\n",
       "data                                                                              \n",
       "feature                                                                           \n",
       "variable                                                              magnitude   \n",
       "joint person action   sample                                                      \n",
       "lear  0      drinking 0       [0.0299, 0.03882, 0.0474, 0.05762, 0.0679, 0.0...   \n",
       "\n",
       "type_feature                                                                     \\\n",
       "data                                                                              \n",
       "feature                                                      total_displacement   \n",
       "variable                                                                      x   \n",
       "joint person action   sample                                                      \n",
       "lear  0      drinking 0       [0.015, 0.02, 0.028, 0.0355, 0.043, 0.053, 0.0...   \n",
       "\n",
       "type_feature                                                                     \\\n",
       "data                                                                              \n",
       "feature                                                                           \n",
       "variable                                                                      y   \n",
       "joint person action   sample                                                      \n",
       "lear  0      drinking 0       [0.01525, 0.02374, 0.02824, 0.03476, 0.0435, 0...   \n",
       "\n",
       "type_feature                                                                     \\\n",
       "data                                                                              \n",
       "feature                                                                           \n",
       "variable                                                                      z   \n",
       "joint person action   sample                                                      \n",
       "lear  0      drinking 0       [-0.008, -0.013, -0.015, -0.018, -0.022, -0.02...   \n",
       "\n",
       "type_feature                                                                     \\\n",
       "data                                                                              \n",
       "feature                                                                           \n",
       "variable                                                              magnitude   \n",
       "joint person action   sample                                                      \n",
       "lear  0      drinking 0       [0.02284, 0.03366, 0.0425, 0.05283, 0.065, 0.0...   \n",
       "\n",
       "type_feature                                                          frequency  \\\n",
       "data                                                                  positions   \n",
       "feature                                                      peak_power_density   \n",
       "variable                                                              magnitude   \n",
       "joint person action   sample                                                      \n",
       "lear  0      drinking 0       [1.0, 6.8e-06, 1.0, 7.4e-06, 1.0, 8.1e-06, 1.0...   \n",
       "\n",
       "type_feature                                                                     \\\n",
       "data                                                                              \n",
       "feature                                                   entropy_power_density   \n",
       "variable                                                              magnitude   \n",
       "joint person action   sample                                                      \n",
       "lear  0      drinking 0       [1.472, 1.395, 1.309, 1.269, 1.241, 1.194, 1.1...   \n",
       "\n",
       "type_feature                  ...  \\\n",
       "data                          ...   \n",
       "feature                       ...   \n",
       "variable                      ...   \n",
       "joint person action   sample  ...   \n",
       "lear  0      drinking 0       ...   \n",
       "\n",
       "type_feature                                                            dynamic  \\\n",
       "data                                                                       jerk   \n",
       "feature                                                      standard_deviation   \n",
       "variable                                                                      z   \n",
       "joint person action   sample                                                      \n",
       "lear  0      drinking 0       [82.8, 82.8, 82.25, 80.4, 81.1, 82.56, 82.56, ...   \n",
       "\n",
       "type_feature                                                                     \\\n",
       "data                                                                              \n",
       "feature                                                                           \n",
       "variable                                                              magnitude   \n",
       "joint person action   sample                                                      \n",
       "lear  0      drinking 0       [57.47, 57.4, 57.6, 57.0, 57.44, 57.56, 57.72,...   \n",
       "\n",
       "type_feature                                                                     \\\n",
       "data                                                                              \n",
       "feature                                                                skewness   \n",
       "variable                                                                      x   \n",
       "joint person action   sample                                                      \n",
       "lear  0      drinking 0       [-0.0637, -0.0846, -0.1206, -0.09357, -0.05557...   \n",
       "\n",
       "type_feature                                                                     \\\n",
       "data                                                                              \n",
       "feature                                                                           \n",
       "variable                                                                      y   \n",
       "joint person action   sample                                                      \n",
       "lear  0      drinking 0       [-0.1113, -0.1113, -0.1113, -0.1113, -0.1523, ...   \n",
       "\n",
       "type_feature                                                                     \\\n",
       "data                                                                              \n",
       "feature                                                                           \n",
       "variable                                                                      z   \n",
       "joint person action   sample                                                      \n",
       "lear  0      drinking 0       [-0.1719, -0.1719, -0.11523, -0.11865, -0.1257...   \n",
       "\n",
       "type_feature                                                                     \\\n",
       "data                                                                              \n",
       "feature                                                                           \n",
       "variable                                                              magnitude   \n",
       "joint person action   sample                                                      \n",
       "lear  0      drinking 0       [-0.105, -0.11, -0.09686, -0.08685, -0.15, -0....   \n",
       "\n",
       "type_feature                                                                     \\\n",
       "data                                                                              \n",
       "feature                                                                kurtosis   \n",
       "variable                                                                      x   \n",
       "joint person action   sample                                                      \n",
       "lear  0      drinking 0       [1.333, 1.287, 1.177, 1.007, 1.312, 1.464, 1.1...   \n",
       "\n",
       "type_feature                                                                     \\\n",
       "data                                                                              \n",
       "feature                                                                           \n",
       "variable                                                                      y   \n",
       "joint person action   sample                                                      \n",
       "lear  0      drinking 0       [-0.967, -0.967, -0.967, -0.967, -1.022, -1.08...   \n",
       "\n",
       "type_feature                                                                     \\\n",
       "data                                                                              \n",
       "feature                                                                           \n",
       "variable                                                                      z   \n",
       "joint person action   sample                                                      \n",
       "lear  0      drinking 0       [-0.579, -0.579, -0.519, -0.3667, -0.4387, -0....   \n",
       "\n",
       "type_feature                                                                     \n",
       "data                                                                             \n",
       "feature                                                                          \n",
       "variable                                                              magnitude  \n",
       "joint person action   sample                                                     \n",
       "lear  0      drinking 0       [-0.273, -0.2603, -0.2954, -0.2081, -0.2808, -...  \n",
       "\n",
       "[1 rows x 158 columns]"
      ]
     },
     "execution_count": 21,
     "metadata": {},
     "output_type": "execute_result"
    }
   ],
   "source": [
    "features_df.head(1)"
   ]
  },
  {
   "cell_type": "code",
   "execution_count": 22,
   "metadata": {
    "pycharm": {
     "name": "#%%\n"
    }
   },
   "outputs": [
    {
     "data": {
      "text/plain": [
       "(3520, 158)"
      ]
     },
     "execution_count": 22,
     "metadata": {},
     "output_type": "execute_result"
    }
   ],
   "source": [
    "features_df.shape"
   ]
  },
  {
   "cell_type": "code",
   "execution_count": 23,
   "metadata": {
    "pycharm": {
     "name": "#%%\n"
    }
   },
   "outputs": [
    {
     "data": {
      "text/plain": [
       "type_feature  data       feature             variable \n",
       "displacement  positions  max_displacement    x            object\n",
       "                                             y            object\n",
       "                                             z            object\n",
       "                                             magnitude    object\n",
       "                         total_displacement  x            object\n",
       "                                                           ...  \n",
       "dynamic       jerk       skewness            magnitude    object\n",
       "                         kurtosis            x            object\n",
       "                                             y            object\n",
       "                                             z            object\n",
       "                                             magnitude    object\n",
       "Length: 158, dtype: object"
      ]
     },
     "execution_count": 23,
     "metadata": {},
     "output_type": "execute_result"
    }
   ],
   "source": [
    "features_df.dtypes"
   ]
  },
  {
   "cell_type": "code",
   "execution_count": 24,
   "metadata": {
    "pycharm": {
     "name": "#%%\n"
    }
   },
   "outputs": [
    {
     "data": {
      "text/plain": [
       "numpy.ndarray"
      ]
     },
     "execution_count": 24,
     "metadata": {},
     "output_type": "execute_result"
    }
   ],
   "source": [
    "type(features_df.iloc[0, 0])"
   ]
  },
  {
   "cell_type": "code",
   "execution_count": 25,
   "metadata": {
    "pycharm": {
     "name": "#%%\n"
    }
   },
   "outputs": [
    {
     "data": {
      "text/plain": [
       "dtype('float16')"
      ]
     },
     "execution_count": 25,
     "metadata": {},
     "output_type": "execute_result"
    }
   ],
   "source": [
    "features_df.iloc[0, 0].dtype"
   ]
  },
  {
   "cell_type": "markdown",
   "metadata": {},
   "source": [
    "**Livelli del dataset**"
   ]
  },
  {
   "cell_type": "code",
   "execution_count": 26,
   "metadata": {
    "pycharm": {
     "name": "#%%\n"
    }
   },
   "outputs": [
    {
     "name": "stdout",
     "output_type": "stream",
     "text": [
      "Index(['lear', 'lelbow', 'leye', 'lshoulder', 'lwrist', 'nose', 'rear',\n",
      "       'relbow', 'reye', 'rshoulder', 'rwrist'],\n",
      "      dtype='object', name='joint')\n",
      "Int64Index([0, 1, 2, 3, 4, 5, 6, 7, 8, 9, 10, 11, 12, 13, 14, 15], dtype='int64', name='person')\n",
      "Index(['drinking', 'eat_crisp', 'open_close_bottle', 'rubiks_cube', 'sanitise',\n",
      "       'touch_bottle', 'touch_rubiks_cube', 'transport_bottle',\n",
      "       'transport_pen', 'transport_rubiks_cube'],\n",
      "      dtype='object', name='action')\n",
      "Int64Index([0, 1, 2], dtype='int64', name='sample')\n"
     ]
    }
   ],
   "source": [
    "for i in range(features_df.index.nlevels):\n",
    "    print(features_df.index.get_level_values(i).unique())"
   ]
  },
  {
   "cell_type": "code",
   "execution_count": 27,
   "metadata": {
    "pycharm": {
     "name": "#%%\n"
    }
   },
   "outputs": [
    {
     "name": "stdout",
     "output_type": "stream",
     "text": [
      "Index(['displacement', 'frequency', 'dynamic'], dtype='object', name='type_feature')\n",
      "Index(['positions', 'velocities', 'acceleration', 'jerk'], dtype='object', name='data')\n",
      "Index(['max_displacement', 'total_displacement', 'peak_power_density',\n",
      "       'entropy_power_density', 'sum_power_density', 'maximum',\n",
      "       'third_quartile', 'second_quartile', 'first_quartile', 'minimum', 'iqr',\n",
      "       'ptp', 'mean', 'variance', 'standard_deviation', 'skewness',\n",
      "       'kurtosis'],\n",
      "      dtype='object', name='feature')\n",
      "Index(['x', 'y', 'z', 'magnitude'], dtype='object', name='variable')\n"
     ]
    }
   ],
   "source": [
    "for i in range(features_df.columns.nlevels):\n",
    "    print(features_df.columns.get_level_values(i).unique())"
   ]
  },
  {
   "cell_type": "markdown",
   "metadata": {},
   "source": [
    "---"
   ]
  },
  {
   "cell_type": "markdown",
   "metadata": {},
   "source": [
    "## Correlazione"
   ]
  },
  {
   "cell_type": "markdown",
   "metadata": {},
   "source": [
    "Secondo le osservazioni fatte sopra provo a formulare le seguenti ipotesi che validerò o meno con il calcolo della correlazione:\n",
    "\n",
    "* Ci aspettiamo una correlazione alta anche tra le azioni simili:\n",
    "    - trasporto e tocco del cubo di rubik\n",
    "    - trasporto e tocco bottiglia\n",
    "    - bere e mangiare\n",
    "    - sanitise e aprire bottiglia\n",
    "    - sanitise e giocare con il cubo di rubik\n",
    "    - aprire bottiglia e cubo di rubik"
   ]
  },
  {
   "cell_type": "markdown",
   "metadata": {},
   "source": [
    "**Nota: calcolare correlazione solo con feature di cinematica non di frequenza, non ha senso, forse non hanno senso nemmeno displacement e dynamic**\n",
    "\n",
    "1.1.: Correlazione tra trasporto e tocco del cubo di rubik \n"
   ]
  },
  {
   "cell_type": "code",
   "execution_count": 28,
   "metadata": {},
   "outputs": [
    {
     "data": {
      "text/plain": [
       "<AxesSubplot:title={'center':'total displacement tocco cubo di rubik - polso destro'}>"
      ]
     },
     "execution_count": 28,
     "metadata": {},
     "output_type": "execute_result"
    },
    {
     "data": {
      "image/png": "[encoded data removed]",
      "text/plain": [
       "<Figure size 432x288 with 1 Axes>"
      ]
     },
     "metadata": {
      "needs_background": "light"
     },
     "output_type": "display_data"
    }
   ],
   "source": [
    "touch_rc_disp = features_df.loc[\n",
    "    idx[\"rwrist\", :, \"touch_rubiks_cube\", [0]],\n",
    "    idx[\"displacement\", \"positions\", \"total_displacement\", \"magnitude\"]\n",
    "].explode().reset_index(drop=True)[:100]\n",
    "\n",
    "touch_rc_disp.plot(title=\"total displacement tocco cubo di rubik - polso destro\")"
   ]
  },
  {
   "cell_type": "code",
   "execution_count": 29,
   "metadata": {},
   "outputs": [
    {
     "data": {
      "text/plain": [
       "<AxesSubplot:title={'center':'total displacement trasporto cubo di rubik - polso destro'}>"
      ]
     },
     "execution_count": 29,
     "metadata": {},
     "output_type": "execute_result"
    },
    {
     "data": {
      "image/png": "[encoded data removed]",
      "text/plain": [
       "<Figure size 432x288 with 1 Axes>"
      ]
     },
     "metadata": {
      "needs_background": "light"
     },
     "output_type": "display_data"
    }
   ],
   "source": [
    "transport_rc_disp = features_df.loc[\n",
    "    idx[\"rwrist\", :, \"transport_rubiks_cube\", [0]],\n",
    "    idx[\"displacement\", \"positions\", \"total_displacement\", \"magnitude\"]\n",
    "].explode().reset_index(drop=True)[:100]\n",
    "\n",
    "transport_rc_disp.plot(title=\"total displacement trasporto cubo di rubik - polso destro\")"
   ]
  },
  {
   "cell_type": "code",
   "execution_count": 30,
   "metadata": {},
   "outputs": [
    {
     "data": {
      "text/plain": [
       "array([[ 1.        , -0.01179343],\n",
       "       [-0.01179343,  1.        ]])"
      ]
     },
     "execution_count": 30,
     "metadata": {},
     "output_type": "execute_result"
    }
   ],
   "source": [
    "np.corrcoef(touch_rc_disp.astype(float),transport_rc_disp.astype(float))"
   ]
  },
  {
   "cell_type": "markdown",
   "metadata": {},
   "source": [
    "Non c'è correlazione tra i total displacement dei polsi destri di trasporto e tocco del cubo di rubik"
   ]
  },
  {
   "cell_type": "code",
   "execution_count": 31,
   "metadata": {},
   "outputs": [
    {
     "data": {
      "text/plain": [
       "<AxesSubplot:title={'center':'velocità media tocco cubo di rubik - polso destro'}>"
      ]
     },
     "execution_count": 31,
     "metadata": {},
     "output_type": "execute_result"
    },
    {
     "data": {
      "image/png": "[encoded data removed]",
      "text/plain": [
       "<Figure size 432x288 with 1 Axes>"
      ]
     },
     "metadata": {
      "needs_background": "light"
     },
     "output_type": "display_data"
    }
   ],
   "source": [
    "touch_rc_vel = features_df.loc[\n",
    "    idx[\"rwrist\", :, \"touch_rubiks_cube\", [0]],\n",
    "    idx[\"dynamic\", \"velocities\", \"mean\", \"magnitude\"]\n",
    "].explode().reset_index(drop=True)[:100]\n",
    "\n",
    "touch_rc_vel.plot(title=\"velocità media tocco cubo di rubik - polso destro\")"
   ]
  },
  {
   "cell_type": "code",
   "execution_count": 32,
   "metadata": {},
   "outputs": [
    {
     "data": {
      "text/plain": [
       "<AxesSubplot:title={'center':'velocità media trasporto cubo di rubik - polso destro'}>"
      ]
     },
     "execution_count": 32,
     "metadata": {},
     "output_type": "execute_result"
    },
    {
     "data": {
      "image/png": "[encoded data removed]",
      "text/plain": [
       "<Figure size 432x288 with 1 Axes>"
      ]
     },
     "metadata": {
      "needs_background": "light"
     },
     "output_type": "display_data"
    }
   ],
   "source": [
    "transport_rc_vel = features_df.loc[\n",
    "    idx[\"rwrist\", :, \"transport_rubiks_cube\", [0]],\n",
    "    idx[\"dynamic\", \"velocities\", \"mean\", \"magnitude\"]\n",
    "\n",
    "].explode().reset_index(drop=True)[:100]\n",
    "\n",
    "transport_rc_vel.plot(title=\"velocità media trasporto cubo di rubik - polso destro\")"
   ]
  },
  {
   "cell_type": "code",
   "execution_count": 33,
   "metadata": {
    "scrolled": true
   },
   "outputs": [
    {
     "data": {
      "text/plain": [
       "array([[1.       , 0.2893575],\n",
       "       [0.2893575, 1.       ]])"
      ]
     },
     "execution_count": 33,
     "metadata": {},
     "output_type": "execute_result"
    }
   ],
   "source": [
    "np.corrcoef(touch_rc_vel.astype(float),transport_rc_vel.astype(float))"
   ]
  },
  {
   "cell_type": "markdown",
   "metadata": {},
   "source": [
    "Non c'è correlazione tra le due azioni sotto il punto di vista della velocità media"
   ]
  },
  {
   "cell_type": "code",
   "execution_count": 34,
   "metadata": {},
   "outputs": [
    {
     "data": {
      "text/plain": [
       "<AxesSubplot:title={'center':'accelerazione media tocco cubo di rubik - polso destro'}>"
      ]
     },
     "execution_count": 34,
     "metadata": {},
     "output_type": "execute_result"
    },
    {
     "data": {
      "image/png": "[encoded data removed]",
      "text/plain": [
       "<Figure size 432x288 with 1 Axes>"
      ]
     },
     "metadata": {
      "needs_background": "light"
     },
     "output_type": "display_data"
    }
   ],
   "source": [
    "touch_rc_acc = features_df.loc[\n",
    "    idx[\"rwrist\", :, \"touch_rubiks_cube\", [0]],\n",
    "    idx[\"dynamic\", \"acceleration\", \"mean\", \"magnitude\"]\n",
    "].explode().reset_index(drop=True)[:100]\n",
    "\n",
    "touch_rc_acc.plot(title=\"accelerazione media tocco cubo di rubik - polso destro\")"
   ]
  },
  {
   "cell_type": "code",
   "execution_count": 35,
   "metadata": {},
   "outputs": [
    {
     "data": {
      "text/plain": [
       "<AxesSubplot:title={'center':'accelerazione media trasporto cubo di rubik - polso destro'}>"
      ]
     },
     "execution_count": 35,
     "metadata": {},
     "output_type": "execute_result"
    },
    {
     "data": {
      "image/png": "[encoded data removed]",
      "text/plain": [
       "<Figure size 432x288 with 1 Axes>"
      ]
     },
     "metadata": {
      "needs_background": "light"
     },
     "output_type": "display_data"
    }
   ],
   "source": [
    "transport_rc_acc = features_df.loc[\n",
    "    idx[\"rwrist\", :, \"transport_rubiks_cube\", [0]],\n",
    "    idx[\"dynamic\", \"acceleration\", \"mean\", \"magnitude\"]\n",
    "\n",
    "].explode().reset_index(drop=True)[:100]\n",
    "\n",
    "transport_rc_acc.plot(title=\"accelerazione media trasporto cubo di rubik - polso destro\")"
   ]
  },
  {
   "cell_type": "code",
   "execution_count": 36,
   "metadata": {},
   "outputs": [
    {
     "data": {
      "text/plain": [
       "array([[1.        , 0.19946077],\n",
       "       [0.19946077, 1.        ]])"
      ]
     },
     "execution_count": 36,
     "metadata": {},
     "output_type": "execute_result"
    }
   ],
   "source": [
    "np.corrcoef(touch_rc_acc.astype(float),transport_rc_acc.astype(float))"
   ]
  },
  {
   "cell_type": "markdown",
   "metadata": {},
   "source": [
    "Non c'è correlazione tra le due azioni sotto il punto di vista dell' accelerazione media"
   ]
  },
  {
   "cell_type": "code",
   "execution_count": 37,
   "metadata": {},
   "outputs": [
    {
     "data": {
      "text/plain": [
       "<AxesSubplot:title={'center':'accelerazione media tocco cubo di rubik - polso destro'}>"
      ]
     },
     "execution_count": 37,
     "metadata": {},
     "output_type": "execute_result"
    },
    {
     "data": {
      "image/png": "[encoded data removed]",
      "text/plain": [
       "<Figure size 432x288 with 1 Axes>"
      ]
     },
     "metadata": {
      "needs_background": "light"
     },
     "output_type": "display_data"
    }
   ],
   "source": [
    "touch_rc_j = features_df.loc[\n",
    "    idx[\"rwrist\", :, \"touch_rubiks_cube\", [0]],\n",
    "    idx[\"dynamic\", \"jerk\", \"mean\", \"magnitude\"]\n",
    "].explode().reset_index(drop=True)[:100]\n",
    "\n",
    "touch_rc_j.plot(title=\"accelerazione media tocco cubo di rubik - polso destro\")"
   ]
  },
  {
   "cell_type": "code",
   "execution_count": 38,
   "metadata": {},
   "outputs": [
    {
     "data": {
      "text/plain": [
       "<AxesSubplot:title={'center':'accelerazione media trasporto cubo di rubik - polso destro'}>"
      ]
     },
     "execution_count": 38,
     "metadata": {},
     "output_type": "execute_result"
    },
    {
     "data": {
      "image/png": "[encoded data removed]",
      "text/plain": [
       "<Figure size 432x288 with 1 Axes>"
      ]
     },
     "metadata": {
      "needs_background": "light"
     },
     "output_type": "display_data"
    }
   ],
   "source": [
    "transport_rc_j = features_df.loc[\n",
    "    idx[\"rwrist\", :, \"transport_rubiks_cube\", [0]],\n",
    "    idx[\"dynamic\", \"jerk\", \"mean\", \"magnitude\"]\n",
    "\n",
    "].explode().reset_index(drop=True)[:100]\n",
    "\n",
    "transport_rc_j.plot(title=\"accelerazione media trasporto cubo di rubik - polso destro\")"
   ]
  },
  {
   "cell_type": "code",
   "execution_count": 39,
   "metadata": {},
   "outputs": [
    {
     "data": {
      "text/plain": [
       "array([[ 1.        , -0.14990019],\n",
       "       [-0.14990019,  1.        ]])"
      ]
     },
     "execution_count": 39,
     "metadata": {},
     "output_type": "execute_result"
    }
   ],
   "source": [
    "np.corrcoef(touch_rc_j.astype(float),transport_rc_j.astype(float))"
   ]
  },
  {
   "cell_type": "markdown",
   "metadata": {},
   "source": [
    "Non ci sono correlazioni tra i jerk delle due azioni\n",
    "\n",
    "In generale le due azioni non sono correlate sotto il punto di vista di spostamento e dinamica."
   ]
  },
  {
   "cell_type": "markdown",
   "metadata": {},
   "source": [
    "**TODO**: FARE STESSA ANALISI PER LE ALTRE COPPIE DI AZIONI SIMIILI (forse, ha senso?)\n",
    "\n",
    "---"
   ]
  },
  {
   "cell_type": "markdown",
   "metadata": {},
   "source": [
    "## T-Test"
   ]
  },
  {
   "cell_type": "markdown",
   "metadata": {},
   "source": [
    "Come abbiamo visto dai grafici dei movimenti, quelli di trasporto e quelli di tocco del cubo di rubik sono molto simili, possiamo fare un test statistico per confermare l'ipotesi. Quindi avremo:\n",
    "\n",
    "* H0 = l'azione di trasporto è simile a quella di tocco\n",
    "* HA = l'azione di trasporto è diversa da quella di tocco\n",
    "\n",
    "Usiamo il t-test per valutare le due ipotesi; in particolare valutiamo le due azioni rispetto alle feature legate al displacement.\n",
    "\n",
    "\n",
    "Per fare il t-test è necessario prendere un campione rispetto alla popolazione totale, e devono valere le seguenti regole:\n",
    "1. Campione con numero di elementi n > 30;\n",
    "2. Popolazione N almeno dieci volte superiore al campione N > 10*n.\n",
    "\n",
    "Inoltre prenderemo come soglie:\n",
    "* Livello di siginificatività : 0.05\n",
    "* Livello di confidenza: 95%\n",
    "\n",
    "\n",
    "Calcolo la popolazione totale"
   ]
  },
  {
   "cell_type": "code",
   "execution_count": 40,
   "metadata": {},
   "outputs": [
    {
     "data": {
      "text/plain": [
       "(3905,)"
      ]
     },
     "execution_count": 40,
     "metadata": {},
     "output_type": "execute_result"
    }
   ],
   "source": [
    "transport_rc = features_df.loc[\n",
    "    idx[\"rwrist\", :, \"transport_rubiks_cube\", :],\n",
    "    idx['displacement', 'positions', 'max_displacement', 'magnitude']\n",
    "].explode().reset_index(drop=True)\n",
    "\n",
    "transport_rc.shape"
   ]
  },
  {
   "cell_type": "code",
   "execution_count": 41,
   "metadata": {},
   "outputs": [
    {
     "data": {
      "text/plain": [
       "(3104,)"
      ]
     },
     "execution_count": 41,
     "metadata": {},
     "output_type": "execute_result"
    }
   ],
   "source": [
    "touch_rc = features_df.loc[\n",
    "    idx[\"rwrist\", :, \"touch_rubiks_cube\", :],\n",
    "    idx['displacement', 'positions', 'max_displacement', 'magnitude']\n",
    "].explode().reset_index(drop=True)\n",
    "\n",
    "touch_rc.shape"
   ]
  },
  {
   "cell_type": "code",
   "execution_count": 42,
   "metadata": {},
   "outputs": [
    {
     "data": {
      "text/plain": [
       "(7009,)"
      ]
     },
     "execution_count": 42,
     "metadata": {},
     "output_type": "execute_result"
    }
   ],
   "source": [
    "total_pop = pd.Series\n",
    "total_pop = pd.concat([touch_rc,transport_rc])\n",
    "total_pop.shape"
   ]
  },
  {
   "cell_type": "markdown",
   "metadata": {},
   "source": [
    "Quindi in questo caso abbiamo che:\n",
    "1. n = 310 > 30\n",
    "2. N è circa 3100\n",
    "\n",
    "Seleziono il campione dal trasporto del cubo di rubik"
   ]
  },
  {
   "cell_type": "code",
   "execution_count": 43,
   "metadata": {},
   "outputs": [
    {
     "data": {
      "text/plain": [
       "(700,)"
      ]
     },
     "execution_count": 43,
     "metadata": {},
     "output_type": "execute_result"
    }
   ],
   "source": [
    "a_touch_rc = features_df.loc[\n",
    "    idx[\"rwrist\", :, \"touch_rubiks_cube\", :],\n",
    "    idx['displacement', 'positions', 'max_displacement', 'magnitude']\n",
    "].explode().reset_index(drop=True)[1800:1800+700]\n",
    "\n",
    "a_touch_rc.shape"
   ]
  },
  {
   "cell_type": "code",
   "execution_count": 44,
   "metadata": {},
   "outputs": [
    {
     "name": "stdout",
     "output_type": "stream",
     "text": [
      "t-statistic:  0.19450241353806638\n",
      "p-value:  0.84583902056506\n"
     ]
    }
   ],
   "source": [
    "t_statistic, p_value = stats.ttest_1samp(a= a_touch_rc, popmean=transport_rc.mean(), alternative='two-sided')\n",
    "print(\"t-statistic: \",t_statistic)\n",
    "print(\"p-value: \",p_value)"
   ]
  },
  {
   "cell_type": "markdown",
   "metadata": {},
   "source": [
    "Dato che il p-value è maggiore del livello di significatività **non posso rigettare l'ipotesi nulla**, potremmo accettare l'ipotesi nulla se il p-value fosse >0.95.\n",
    "Quindi c'è buona probabilità che le due azioni siano simili.\n",
    "\n",
    "---\n",
    "\n",
    "* H0 = l'azione di trasporto bottiglia è simile a quella di tocco bottiglia\n",
    "* HA = l'azione di trasporto bottiglia è diversa da quella di tocco bottiglia\n",
    "\n",
    "\n",
    "Calcolo la popolazione totale"
   ]
  },
  {
   "cell_type": "code",
   "execution_count": 45,
   "metadata": {},
   "outputs": [
    {
     "data": {
      "text/plain": [
       "(4342,)"
      ]
     },
     "execution_count": 45,
     "metadata": {},
     "output_type": "execute_result"
    }
   ],
   "source": [
    "transport_bot = features_df.loc[\n",
    "    idx[\"rwrist\", :, \"transport_bottle\", :],\n",
    "    idx['displacement', 'positions', 'max_displacement', 'magnitude']\n",
    "].explode().reset_index(drop=True)\n",
    "\n",
    "transport_bot.shape"
   ]
  },
  {
   "cell_type": "code",
   "execution_count": 46,
   "metadata": {},
   "outputs": [
    {
     "data": {
      "text/plain": [
       "(2714,)"
      ]
     },
     "execution_count": 46,
     "metadata": {},
     "output_type": "execute_result"
    }
   ],
   "source": [
    "touch_bot = features_df.loc[\n",
    "    idx[\"rwrist\", :, \"touch_bottle\", :],\n",
    "    idx['displacement', 'positions', 'max_displacement', 'magnitude']\n",
    "].explode().reset_index(drop=True)\n",
    "\n",
    "touch_bot.shape"
   ]
  },
  {
   "cell_type": "code",
   "execution_count": 47,
   "metadata": {},
   "outputs": [
    {
     "data": {
      "text/plain": [
       "(7056,)"
      ]
     },
     "execution_count": 47,
     "metadata": {},
     "output_type": "execute_result"
    }
   ],
   "source": [
    "total_pop = pd.Series\n",
    "total_pop = pd.concat([touch_bot,transport_bot])\n",
    "total_pop.shape"
   ]
  },
  {
   "cell_type": "markdown",
   "metadata": {},
   "source": [
    "Quindi in questo caso abbiamo che:\n",
    "1. n = 700 > 30\n",
    "2. N è circa 7000\n",
    "\n",
    "Seleziono il campione dal trasporto della bottiglia"
   ]
  },
  {
   "cell_type": "code",
   "execution_count": 48,
   "metadata": {},
   "outputs": [
    {
     "data": {
      "text/plain": [
       "(700,)"
      ]
     },
     "execution_count": 48,
     "metadata": {},
     "output_type": "execute_result"
    }
   ],
   "source": [
    "a_touch_bot = features_df.loc[\n",
    "    idx[\"rwrist\", :, \"touch_bottle\", :],\n",
    "    idx['displacement', 'positions', 'max_displacement', 'magnitude']\n",
    "].explode().reset_index(drop=True)[1200:1200+700]\n",
    "\n",
    "a_touch_bot.shape"
   ]
  },
  {
   "cell_type": "code",
   "execution_count": 49,
   "metadata": {},
   "outputs": [
    {
     "name": "stdout",
     "output_type": "stream",
     "text": [
      "t-statistic:  -40.618642374508234\n",
      "p-value:  3.848416600235509e-186\n"
     ]
    }
   ],
   "source": [
    "t_statistic, p_value = stats.ttest_1samp(a=a_touch_bot, popmean=transport_bot.mean(), alternative='two-sided')\n",
    "print(\"t-statistic: \",t_statistic)\n",
    "print(\"p-value: \",p_value)"
   ]
  },
  {
   "cell_type": "markdown",
   "metadata": {},
   "source": [
    "Dato che il p-value è minore del livello di significatività quindi **rigetto l'ipotesi nulla in favore di quella alternativa**; le due azioni sono diverse.\n",
    "\n",
    "---\n",
    "\n",
    "* H0 = l'azione di sanitise è simile a quella di giocare con il cubo di rubik\n",
    "* HA = l'azione di sanitise è diversa da quella di giocare con il cubo di rubik\n",
    "\n",
    "\n",
    "Calcolo la popolazione totale\n"
   ]
  },
  {
   "cell_type": "code",
   "execution_count": 50,
   "metadata": {},
   "outputs": [
    {
     "data": {
      "text/plain": [
       "(5372,)"
      ]
     },
     "execution_count": 50,
     "metadata": {},
     "output_type": "execute_result"
    }
   ],
   "source": [
    "sanitise = features_df.loc[\n",
    "    idx[\"rwrist\", :, \"sanitise\", :],\n",
    "    idx['dynamic', 'velocities', 'mean', 'magnitude']\n",
    "].explode().reset_index(drop=True)\n",
    "\n",
    "sanitise.shape"
   ]
  },
  {
   "cell_type": "code",
   "execution_count": 51,
   "metadata": {},
   "outputs": [
    {
     "data": {
      "text/plain": [
       "(8373,)"
      ]
     },
     "execution_count": 51,
     "metadata": {},
     "output_type": "execute_result"
    }
   ],
   "source": [
    "rc = features_df.loc[\n",
    "    idx[\"rwrist\", :, \"rubiks_cube\", :],\n",
    "    idx['dynamic', 'velocities', 'mean', 'magnitude']\n",
    "].explode().reset_index(drop=True)\n",
    "\n",
    "rc.shape"
   ]
  },
  {
   "cell_type": "code",
   "execution_count": 52,
   "metadata": {},
   "outputs": [
    {
     "data": {
      "text/plain": [
       "(13745,)"
      ]
     },
     "execution_count": 52,
     "metadata": {},
     "output_type": "execute_result"
    }
   ],
   "source": [
    "total_pop = pd.Series\n",
    "total_pop = pd.concat([rc,sanitise])\n",
    "total_pop.shape"
   ]
  },
  {
   "cell_type": "markdown",
   "metadata": {},
   "source": [
    "Quindi in questo caso abbiamo che:\n",
    "1. n = 1300 > 30\n",
    "2. N è circa 13000\n",
    "\n",
    "Seleziono il campione da sanitise"
   ]
  },
  {
   "cell_type": "code",
   "execution_count": 53,
   "metadata": {},
   "outputs": [
    {
     "data": {
      "text/plain": [
       "(1300,)"
      ]
     },
     "execution_count": 53,
     "metadata": {},
     "output_type": "execute_result"
    }
   ],
   "source": [
    "a_sanitise = features_df.loc[\n",
    "    idx[\"rwrist\", :, \"sanitise\", :],\n",
    "    idx['dynamic', 'velocities', 'mean', 'magnitude']\n",
    "].explode().reset_index(drop=True)[900:900+1300]\n",
    "\n",
    "a_sanitise.shape"
   ]
  },
  {
   "cell_type": "code",
   "execution_count": 54,
   "metadata": {},
   "outputs": [
    {
     "name": "stdout",
     "output_type": "stream",
     "text": [
      "t-statistic:  -0.047162097847846245\n",
      "p-value:  0.9623912848580733\n"
     ]
    }
   ],
   "source": [
    "t_statistic, p_value = stats.ttest_1samp(a=a_sanitise, popmean=rc.mean(), alternative='two-sided')\n",
    "print(\"t-statistic: \",t_statistic)\n",
    "print(\"p-value: \",p_value)"
   ]
  },
  {
   "cell_type": "markdown",
   "metadata": {},
   "source": [
    "Dato che il p-value è maggiore del livello di confidenza **accetto l'ipotesi nulla**:\n",
    "le azioni di lavarsi le mani e giocare con il cubo di rubik sono simili.\n",
    "\n",
    "---\n",
    "\n",
    "* H0 = l'azione di sanitise è simile a quella di aprire e chiudere la bottiglia\n",
    "* HA = l'azione di sanitise è diversa da quella di aprire e chiudere la bottiglia\n",
    "\n",
    "\n",
    "Calcolo la popolazione totale\n"
   ]
  },
  {
   "cell_type": "code",
   "execution_count": 55,
   "metadata": {},
   "outputs": [
    {
     "data": {
      "text/plain": [
       "(8691,)"
      ]
     },
     "execution_count": 55,
     "metadata": {},
     "output_type": "execute_result"
    }
   ],
   "source": [
    "ocb = features_df.loc[\n",
    "    idx[\"rwrist\", :, \"open_close_bottle\", :],\n",
    "    idx['dynamic', 'velocities', 'mean', 'magnitude']\n",
    "].explode().reset_index(drop=True)\n",
    "\n",
    "ocb.shape"
   ]
  },
  {
   "cell_type": "code",
   "execution_count": 56,
   "metadata": {},
   "outputs": [
    {
     "data": {
      "text/plain": [
       "(14063,)"
      ]
     },
     "execution_count": 56,
     "metadata": {},
     "output_type": "execute_result"
    }
   ],
   "source": [
    "total_pop = pd.Series\n",
    "total_pop = pd.concat([sanitise,ocb])\n",
    "total_pop.shape\n"
   ]
  },
  {
   "cell_type": "markdown",
   "metadata": {},
   "source": [
    "Quindi in questo caso abbiamo che:\n",
    "1. n = 1400 > 30\n",
    "2. N è circa 14000"
   ]
  },
  {
   "cell_type": "code",
   "execution_count": 57,
   "metadata": {},
   "outputs": [
    {
     "data": {
      "text/plain": [
       "(1400,)"
      ]
     },
     "execution_count": 57,
     "metadata": {},
     "output_type": "execute_result"
    }
   ],
   "source": [
    "a_ocb = features_df.loc[\n",
    "    idx[\"rwrist\", :, \"open_close_bottle\", :],\n",
    "    idx['dynamic', 'velocities', 'mean', 'magnitude']\n",
    "].explode().reset_index(drop=True)[3300:3300+1400]\n",
    "\n",
    "a_ocb.shape"
   ]
  },
  {
   "cell_type": "code",
   "execution_count": 58,
   "metadata": {},
   "outputs": [
    {
     "name": "stdout",
     "output_type": "stream",
     "text": [
      "t-statistic:  -22.850558180755478\n",
      "p-value:  2.043662607028463e-97\n"
     ]
    }
   ],
   "source": [
    "t_statistic, p_value = stats.ttest_1samp(a= a_sanitise, popmean= ocb.mean(), alternative='two-sided')\n",
    "print(\"t-statistic: \",t_statistic)\n",
    "print(\"p-value: \",p_value)"
   ]
  },
  {
   "cell_type": "markdown",
   "metadata": {},
   "source": [
    "Dato che il p-value è minore del livello di significatività **rigetto l'ipotesi nulla in favore di quella alternativa**; le due azioni sono diverse.\n",
    "\n",
    "---\n",
    "\n",
    "* H0 = l'azione di giocare con il cubo di rubik è simile a quella di aprire e chiudere la bottiglia\n",
    "* HA = l'azione di giocare con il cubo di rubik è diversa da quella di aprire e chiudere la bottiglia\n",
    "\n",
    "\n",
    "Calcolo la popolazione totale\n"
   ]
  },
  {
   "cell_type": "code",
   "execution_count": 59,
   "metadata": {},
   "outputs": [
    {
     "data": {
      "text/plain": [
       "(17064,)"
      ]
     },
     "execution_count": 59,
     "metadata": {},
     "output_type": "execute_result"
    }
   ],
   "source": [
    "total_pop = pd.Series\n",
    "total_pop = pd.concat([rc,ocb])\n",
    "total_pop.shape"
   ]
  },
  {
   "cell_type": "markdown",
   "metadata": {},
   "source": [
    "Abbiamo già calcolato le varie popolazioni totali quindi abbiamo che:\n",
    "1. n = 1700 > 30\n",
    "2. N è circa 17000\n",
    "\n",
    "Seleziono il campione da rubiks_cube"
   ]
  },
  {
   "cell_type": "code",
   "execution_count": 60,
   "metadata": {},
   "outputs": [
    {
     "data": {
      "text/plain": [
       "(1700,)"
      ]
     },
     "execution_count": 60,
     "metadata": {},
     "output_type": "execute_result"
    }
   ],
   "source": [
    "a_rc = features_df.loc[\n",
    "    idx[\"rwrist\", :, \"rubiks_cube\", :],\n",
    "    idx['dynamic', 'velocities', 'mean', 'magnitude']\n",
    "].explode().reset_index(drop=True)[3200:3200+1700]\n",
    "\n",
    "a_rc.shape"
   ]
  },
  {
   "cell_type": "code",
   "execution_count": 61,
   "metadata": {},
   "outputs": [
    {
     "name": "stdout",
     "output_type": "stream",
     "text": [
      "t-statistic:  0.3650037167524639\n",
      "p-value:  0.7151540610635017\n"
     ]
    }
   ],
   "source": [
    "t_statistic, p_value = stats.ttest_1samp(a=a_rc, popmean=ocb.mean(), alternative='two-sided')\n",
    "print(\"t-statistic: \",t_statistic)\n",
    "print(\"p-value: \",p_value)"
   ]
  },
  {
   "cell_type": "markdown",
   "metadata": {},
   "source": [
    "Il p-value è maggiore del livello di significatività quindi **non possiamo rigettare l'ipotesi nulla**, la potremmo accettare se p-value>livello di confidenza. Le due azioni sono con buona probabilità simili\n",
    "\n",
    "---\n",
    "\n",
    "* H0 = l'azione di mangiare patatine è simile a quella di bere\n",
    "* HA = l'azione di mangiare è diversa da quella di bere\n",
    "\n",
    "Calcolo la popolazione totale\n"
   ]
  },
  {
   "cell_type": "code",
   "execution_count": 62,
   "metadata": {},
   "outputs": [
    {
     "data": {
      "text/plain": [
       "(4453,)"
      ]
     },
     "execution_count": 62,
     "metadata": {},
     "output_type": "execute_result"
    }
   ],
   "source": [
    "ec = features_df.loc[\n",
    "    idx[\"rwrist\", :, \"eat_crisp\", :],\n",
    "    idx['displacement', 'positions', 'max_displacement', 'magnitude']\n",
    "].explode().reset_index(drop=True)\n",
    "\n",
    "ec.shape"
   ]
  },
  {
   "cell_type": "code",
   "execution_count": 63,
   "metadata": {},
   "outputs": [
    {
     "data": {
      "text/plain": [
       "(5996,)"
      ]
     },
     "execution_count": 63,
     "metadata": {},
     "output_type": "execute_result"
    }
   ],
   "source": [
    "d = features_df.loc[\n",
    "    idx[\"rwrist\", :, \"drinking\", :],\n",
    "    idx['displacement', 'positions', 'max_displacement', 'magnitude']\n",
    "].explode().reset_index(drop=True)\n",
    "\n",
    "d.shape"
   ]
  },
  {
   "cell_type": "code",
   "execution_count": 64,
   "metadata": {},
   "outputs": [
    {
     "data": {
      "text/plain": [
       "(10449,)"
      ]
     },
     "execution_count": 64,
     "metadata": {},
     "output_type": "execute_result"
    }
   ],
   "source": [
    "total_pop = pd.Series\n",
    "total_pop = pd.concat([ec,d])\n",
    "total_pop.shape"
   ]
  },
  {
   "cell_type": "markdown",
   "metadata": {},
   "source": [
    "Quindi in questo caso abbiamo che:\n",
    "1. n = 1000 > 30\n",
    "2. N è circa 10000\n",
    "\n",
    "Seleziono il campione da mangiare patatine"
   ]
  },
  {
   "cell_type": "code",
   "execution_count": 65,
   "metadata": {},
   "outputs": [
    {
     "data": {
      "text/plain": [
       "(1000,)"
      ]
     },
     "execution_count": 65,
     "metadata": {},
     "output_type": "execute_result"
    }
   ],
   "source": [
    "a_ec = features_df.loc[\n",
    "    idx[\"rwrist\", :, \"eat_crisp\", :],\n",
    "    idx['displacement', 'positions', 'max_displacement', 'magnitude']\n",
    "].explode().reset_index(drop=True)[2200:2200+1000]\n",
    "\n",
    "a_ec.shape"
   ]
  },
  {
   "cell_type": "code",
   "execution_count": 66,
   "metadata": {},
   "outputs": [
    {
     "name": "stdout",
     "output_type": "stream",
     "text": [
      "t-statistic:  -0.3979355026048134\n",
      "p-value:  0.6907627490564527\n"
     ]
    }
   ],
   "source": [
    "t_statistic, p_value = stats.ttest_1samp(a= a_ec, popmean= d.mean(), alternative='two-sided')\n",
    "print(\"t-statistic: \",t_statistic)\n",
    "print(\"p-value: \",p_value)"
   ]
  },
  {
   "cell_type": "markdown",
   "metadata": {},
   "source": [
    "Il p-value è maggiore del livello di significatività, **non posso rigettare l'ipotesi nulla**, le due azioni sono probabilmente simili.\n",
    "\n",
    "###### NOTA: ho preso in considerazione la parte \"centrale\" dell'azione per fare in modo di confrontare la parte più significativa;i in un primo momento, provando con la parte iniziale del movimento, i risultati erano completamente diversi, infatti nessuno dei movimenti risultava simile.\n",
    "\n",
    "---"
   ]
  },
  {
   "cell_type": "markdown",
   "metadata": {},
   "source": [
    "## Regressione Logistica - ML supervisionato"
   ]
  },
  {
   "cell_type": "markdown",
   "metadata": {},
   "source": [
    "Possiamo usare un algoritmo di regressione logistica per classificare se un'azione è relativa al trasporto o al tocco del cubo di rubik"
   ]
  },
  {
   "cell_type": "markdown",
   "metadata": {},
   "source": [
    "Passi da seguire:\n",
    "\n",
    "1. Dividere dataset in training e test;\n",
    "2. Istanziare un oggetto della classe LogisticRegression;\n",
    "3. Fare fit su training set;\n",
    "4. Usare la funzione score che fornisce l'accuratezza intesa come numero di volte in cui abbiamo predetto correttamente la classe rispetto al totale. "
   ]
  },
  {
   "cell_type": "code",
   "execution_count": 67,
   "metadata": {},
   "outputs": [],
   "source": [
    "# funzione che divide il data set in train e test\n",
    "\n",
    "def my_train_test_slipt(X, joints, actions):\n",
    "    n_features = X.columns.size\n",
    "    n_joints = len(joints)\n",
    "    n_people = 16\n",
    "    n_actions = len(actions)\n",
    "    n_samples = 30\n",
    "\n",
    "    tr = np.asarray(X.loc[idx[joints, :, actions, 0]].reset_index(drop=True))\n",
    "    te = np.asarray(X.loc[idx[joints, :, actions, 1]].reset_index(drop=True))\n",
    "    y_train = np.asarray(X.loc[idx[joints, :, actions, 0]].reset_index()['action'])\n",
    "    y_test = np.asarray(X.loc[idx[joints, :, actions, 1]].reset_index()['action'])\n",
    "\n",
    "    y_train_fixed = np.zeros(shape=(n_samples * n_people * n_actions), dtype=(np.unicode_, 16))\n",
    "    y_test_fixed = np.zeros(shape=(n_samples * n_people * n_actions), dtype=(np.unicode_, 16))\n",
    "    X_train = np.zeros((n_people * n_actions, n_features * n_joints, n_samples), dtype=np.float64)\n",
    "    X_test = np.zeros((n_people * n_actions, n_features * n_joints, n_samples), dtype=np.float64)\n",
    "\n",
    "    for z in range(n_people * n_actions):\n",
    "        for k in range(n_joints):\n",
    "            for j in range(n_features):\n",
    "                for i in range(n_samples):\n",
    "                    X_train[z, j + (n_joints - 1), i] = tr[z + k * (n_joints - 1)][j][-i]\n",
    "        for i in range(n_samples):\n",
    "            y_train_fixed[z * n_samples + i] = y_train[z]\n",
    "\n",
    "    for z in range(n_people * n_actions):\n",
    "        for k in range(n_joints):\n",
    "            for j in range(n_features):\n",
    "                for i in range(n_samples):\n",
    "                    X_test[z, j + (n_joints - 1), i] = te[z + k * (n_joints - 1)][j][-i]\n",
    "        for i in range(n_samples):\n",
    "            y_test_fixed[z * n_samples + i] = y_test[z]\n",
    "\n",
    "    X_train = X_train.reshape(-1, n_features * n_joints)\n",
    "    X_test = X_test.reshape(-1, n_features * n_joints)\n",
    "\n",
    "    if np.where(y_train_fixed == ''):\n",
    "        return X_train, X_test, y_train_fixed, y_test_fixed\n",
    "    else : \n",
    "        print(\"Ci sono degli elementi nulli\")"
   ]
  },
  {
   "cell_type": "code",
   "execution_count": 132,
   "metadata": {},
   "outputs": [],
   "source": [
    "joints = ['rwrist']\n",
    "\n",
    "actions = ['transport_bottle', 'touch_bottle']\n",
    "\n",
    "X = features_df.loc[idx[joints, :, actions, :],idx[['displacement']]]\n",
    "\n",
    "X_train,X_test,y_train_fixed,y_test_fixed = my_train_test_slipt(X, joints, actions)"
   ]
  },
  {
   "cell_type": "code",
   "execution_count": 133,
   "metadata": {},
   "outputs": [
    {
     "data": {
      "text/plain": [
       "0.6208333333333333"
      ]
     },
     "execution_count": 133,
     "metadata": {},
     "output_type": "execute_result"
    }
   ],
   "source": [
    "regressor = LogisticRegression()\n",
    "\n",
    "regressor.fit(X_train,y_train_fixed)\n",
    "regressor.score(X_test,y_test_fixed)\n"
   ]
  },
  {
   "cell_type": "code",
   "execution_count": 134,
   "metadata": {},
   "outputs": [
    {
     "data": {
      "text/plain": [
       "<sklearn.metrics._plot.confusion_matrix.ConfusionMatrixDisplay at 0x7f29f081ad30>"
      ]
     },
     "execution_count": 134,
     "metadata": {},
     "output_type": "execute_result"
    },
    {
     "data": {
      "image/png": "[encoded data removed]",
      "text/plain": [
       "<Figure size 432x288 with 2 Axes>"
      ]
     },
     "metadata": {
      "needs_background": "light"
     },
     "output_type": "display_data"
    }
   ],
   "source": [
    "ConfusionMatrixDisplay.from_estimator(regressor, X_test, y_test_fixed, cmap='GnBu')"
   ]
  },
  {
   "cell_type": "markdown",
   "metadata": {},
   "source": []
  },
  {
   "cell_type": "markdown",
   "metadata": {},
   "source": [
    "Calcolo la regressione logistica prendendo tutti i joints e tutte le feature della categoria displacement"
   ]
  },
  {
   "cell_type": "code",
   "execution_count": 85,
   "metadata": {},
   "outputs": [],
   "source": [
    "joints = ['lear', 'lelbow', 'leye', 'lshoulder', 'lwrist', 'nose', 'rear','relbow', 'reye', 'rshoulder', 'rwrist']\n",
    "\n",
    "actions = ['transport_rubiks_cube', 'touch_rubiks_cube']\n",
    "\n",
    "X = features_df.loc[idx[joints, :, actions, :],idx[['displacement']]]\n",
    "\n",
    "X_train,X_test,y_train_fixed,y_test_fixed = my_train_test_slipt(X, joints, actions)"
   ]
  },
  {
   "cell_type": "code",
   "execution_count": 86,
   "metadata": {},
   "outputs": [
    {
     "data": {
      "text/plain": [
       "0.50625"
      ]
     },
     "execution_count": 86,
     "metadata": {},
     "output_type": "execute_result"
    }
   ],
   "source": [
    "regressor = LogisticRegression()\n",
    "\n",
    "regressor.fit(X_train,y_train_fixed)\n",
    "regressor.score(X_test,y_test_fixed)\n"
   ]
  },
  {
   "cell_type": "code",
   "execution_count": 87,
   "metadata": {},
   "outputs": [
    {
     "data": {
      "text/plain": [
       "<sklearn.metrics._plot.confusion_matrix.ConfusionMatrixDisplay at 0x7f2a2c3f9130>"
      ]
     },
     "execution_count": 87,
     "metadata": {},
     "output_type": "execute_result"
    },
    {
     "data": {
      "image/png": "[encoded data removed]",
      "text/plain": [
       "<Figure size 432x288 with 2 Axes>"
      ]
     },
     "metadata": {
      "needs_background": "light"
     },
     "output_type": "display_data"
    }
   ],
   "source": [
    "ConfusionMatrixDisplay.from_estimator(regressor, X_test, y_test_fixed, cmap='GnBu')"
   ]
  },
  {
   "cell_type": "markdown",
   "metadata": {},
   "source": [
    "Il risultato che abbiamo ottenuto dalla regressione logistica di trasporto e tocco del cubo di rubik non è soddisfacente, ma era prevedibile in quanto dal ttest fatto in precedenza risultava che le due azioni sono simili, quindi è normale che l'algoritmo non riesca a classificarle correttamente.\n",
    "\n",
    "Se avessimo classificato le azioni in modo casuale avremmo ottenuto un regressor score simile che si aggira intorno allo 0.5 come nel nostro caso.\n",
    "\n",
    "La confusion matrix ha sulla sua diagonale i valori classificati correttamente, quindi avremmo ottenuto un risultato ottimale se la diagonale fosse stata blu scuro (tanti valori sarebbero stati classificati correttamente); invece osservando la matrice emerge che molte delle tuple associate all'azione di trasport sono state classificate correttamente, ma la maggior parte delle tuple relative al tocco sono state classificate erroneamente.\n",
    "\n",
    "**TODO: rifare lo stessso per le altre coppie di azioni simili**, se dal test statistico risulta che le due azioni non sono simili, ci aspettiamo che la regressione logistica classifichi bene le due azioni, in caso contrario, ovvero se le due azioni sono simili, fare la regressione logistica darà risultati pessimi e questo dovrebbe servire come ulteriore conferma del fatto che le due azioni sono simili e quindi difficili da distinguere una dall'altra\n",
    "\n",
    "---\n",
    "\n",
    "Usiamo ora un algoritmo di regressione logistica per classificare se un movimento fa parte delle azioni di: aprire e chiudere bottiglia, giocare con il cubo di rubik e lavarsi le mani\n",
    "\n",
    "Considero tutti i joint e le feature di max_displacement sulla magnitude"
   ]
  },
  {
   "cell_type": "code",
   "execution_count": 118,
   "metadata": {},
   "outputs": [],
   "source": [
    "joints = ['rwrist']\n",
    "actions = ['sanitise', 'open_close_bottle']\n",
    "\n",
    "X = features_df.loc[idx[joints, :, actions, :],idx[['dynamic'], ['velocities']]]\n",
    "\n",
    "X_train,X_test,y_train_fixed,y_test_fixed = my_train_test_slipt(X, joints, actions)"
   ]
  },
  {
   "cell_type": "code",
   "execution_count": 119,
   "metadata": {},
   "outputs": [
    {
     "name": "stderr",
     "output_type": "stream",
     "text": [
      "/home/vale/anaconda3/lib/python3.9/site-packages/sklearn/linear_model/_logistic.py:444: ConvergenceWarning: lbfgs failed to converge (status=1):\n",
      "STOP: TOTAL NO. of ITERATIONS REACHED LIMIT.\n",
      "\n",
      "Increase the number of iterations (max_iter) or scale the data as shown in:\n",
      "    https://scikit-learn.org/stable/modules/preprocessing.html\n",
      "Please also refer to the documentation for alternative solver options:\n",
      "    https://scikit-learn.org/stable/modules/linear_model.html#logistic-regression\n",
      "  n_iter_i = _check_optimize_result(\n"
     ]
    },
    {
     "data": {
      "text/plain": [
       "0.678125"
      ]
     },
     "execution_count": 119,
     "metadata": {},
     "output_type": "execute_result"
    }
   ],
   "source": [
    "regressor = LogisticRegression()\n",
    "\n",
    "regressor.fit(X_train,y_train_fixed)\n",
    "regressor.score(X_test,y_test_fixed)\n"
   ]
  },
  {
   "cell_type": "code",
   "execution_count": 120,
   "metadata": {},
   "outputs": [
    {
     "data": {
      "text/plain": [
       "<sklearn.metrics._plot.confusion_matrix.ConfusionMatrixDisplay at 0x7f2a1411d9a0>"
      ]
     },
     "execution_count": 120,
     "metadata": {},
     "output_type": "execute_result"
    },
    {
     "data": {
      "image/png": "[encoded data removed]",
      "text/plain": [
       "<Figure size 432x288 with 2 Axes>"
      ]
     },
     "metadata": {
      "needs_background": "light"
     },
     "output_type": "display_data"
    }
   ],
   "source": [
    "ConfusionMatrixDisplay.from_estimator(regressor, X_test, y_test_fixed, cmap='GnBu')"
   ]
  },
  {
   "cell_type": "markdown",
   "metadata": {},
   "source": [
    "Clusterizzando in base a aprire e chiudere bottiglia e lavarsi le mani, otteniamo ottimi risultati infatti le due classi di azioni vengono ben riconosciuti in quanto anche secondo il ttest fatto in precedenza le due azioni sono diverse, provando a classificarle tutte e tre insieme otteniamo risultati ben differenti, di seguito prendo tutti i joints per tutte e tre le azioni:\n"
   ]
  },
  {
   "cell_type": "code",
   "execution_count": 121,
   "metadata": {},
   "outputs": [],
   "source": [
    "joints = ['lear', 'lelbow', 'leye', 'lshoulder', 'lwrist', 'nose', 'rear','relbow', 'reye', 'rshoulder', 'rwrist']\n",
    "\n",
    "actions = ['sanitise', 'open_close_bottle', 'rubiks_cube']\n",
    "\n",
    "X = features_df.loc[idx[joints, :, actions, :],idx[['dynamic'], ['velocities']]]\n",
    "\n",
    "X_train,X_test,y_train_fixed,y_test_fixed = my_train_test_slipt(X, joints, actions)"
   ]
  },
  {
   "cell_type": "code",
   "execution_count": 122,
   "metadata": {},
   "outputs": [
    {
     "data": {
      "text/plain": [
       "0.3715277777777778"
      ]
     },
     "execution_count": 122,
     "metadata": {},
     "output_type": "execute_result"
    }
   ],
   "source": [
    "regressor = LogisticRegression()\n",
    "\n",
    "regressor.fit(X_train,y_train_fixed)\n",
    "regressor.score(X_test,y_test_fixed)"
   ]
  },
  {
   "cell_type": "code",
   "execution_count": 123,
   "metadata": {},
   "outputs": [
    {
     "data": {
      "text/plain": [
       "<sklearn.metrics._plot.confusion_matrix.ConfusionMatrixDisplay at 0x7f2a2c28c9d0>"
      ]
     },
     "execution_count": 123,
     "metadata": {},
     "output_type": "execute_result"
    },
    {
     "data": {
      "image/png": "[encoded data removed]",
      "text/plain": [
       "<Figure size 432x288 with 2 Axes>"
      ]
     },
     "metadata": {
      "needs_background": "light"
     },
     "output_type": "display_data"
    }
   ],
   "source": [
    "ConfusionMatrixDisplay.from_estimator(regressor, X_test, y_test_fixed, cmap='GnBu')"
   ]
  },
  {
   "cell_type": "markdown",
   "metadata": {},
   "source": [
    "In questo caso l'algoritmo non riesce a classificare le azioni in modo corretto e si ottiene quasi una distribuzione casuale, infatti il regression score si aggira intorno allo 0.3\n",
    "\n",
    "---\n",
    "\n",
    "Sotto provo a classificare in base alle azioni di bere e mangiare patatine, prendo in considerazione come unico joints il naso, perchè è l'unico elemento che viene mosso in modo differente per le due azioni, infatti quando si beve si solleva il naso e quando si mangia, tendenzialmente no; uso le feature di displacement"
   ]
  },
  {
   "cell_type": "code",
   "execution_count": 124,
   "metadata": {},
   "outputs": [],
   "source": [
    "joints = [ 'nose' ]\n",
    "actions = ['drinking', 'eat_crisp']\n",
    "\n",
    "X = features_df.loc[idx[joints, :, actions, :],idx[['displacement']]]\n",
    "\n",
    "X_train,X_test,y_train_fixed,y_test_fixed = my_train_test_slipt(X, joints, actions)"
   ]
  },
  {
   "cell_type": "code",
   "execution_count": 125,
   "metadata": {},
   "outputs": [
    {
     "data": {
      "text/plain": [
       "0.621875"
      ]
     },
     "execution_count": 125,
     "metadata": {},
     "output_type": "execute_result"
    }
   ],
   "source": [
    "regressor = LogisticRegression()\n",
    "\n",
    "regressor.fit(X_train,y_train_fixed)\n",
    "regressor.score(X_test,y_test_fixed)\n"
   ]
  },
  {
   "cell_type": "code",
   "execution_count": 126,
   "metadata": {},
   "outputs": [
    {
     "data": {
      "text/plain": [
       "<sklearn.metrics._plot.confusion_matrix.ConfusionMatrixDisplay at 0x7f29f09c4430>"
      ]
     },
     "execution_count": 126,
     "metadata": {},
     "output_type": "execute_result"
    },
    {
     "data": {
      "image/png": "[encoded data removed]",
      "text/plain": [
       "<Figure size 432x288 with 2 Axes>"
      ]
     },
     "metadata": {
      "needs_background": "light"
     },
     "output_type": "display_data"
    }
   ],
   "source": [
    "ConfusionMatrixDisplay.from_estimator(regressor, X_test, y_test_fixed, cmap='GnBu')"
   ]
  },
  {
   "cell_type": "markdown",
   "metadata": {},
   "source": [
    "Il regressor score non è altissimo ma vediamo dalla matrice di confusione che nella maggior parte dei casi le azioni vengono classificate correttamente, quindi la differenza trovata è significativa.\n"
   ]
  },
  {
   "cell_type": "markdown",
   "metadata": {},
   "source": [
    "## KMeans - ML non supervisionato \n",
    "\n",
    "Ora provo a clusterizzare il dataset con kmeans dividendolo nelle due azioni di trasporto e tocco del cubo di rubik; in questo modo posso osservare la differenza tra approccio supervisionato e non.\n",
    "\n",
    "Considero tutti i joints e tutte le feature della categoria displacement come fatto per la regressione logistica"
   ]
  },
  {
   "cell_type": "code",
   "execution_count": 127,
   "metadata": {},
   "outputs": [],
   "source": [
    "joints = ['lear', 'lelbow', 'leye', 'lshoulder', 'lwrist', 'nose', 'rear','relbow', 'reye', 'rshoulder', 'rwrist']\n",
    "\n",
    "actions = ['transport_rubiks_cube', 'touch_rubiks_cube']\n",
    "\n",
    "X1 = features_df.loc[idx[joints, :, actions, :],idx[['displacement']]]\n",
    "\n",
    "n_features = X1.columns.size\n",
    "n_joints = len(joints)\n",
    "n_people = 16\n",
    "n_actions = len(actions)\n",
    "n_samples = 50\n",
    "\n",
    "\n",
    "l = np.asarray(X1.loc[idx[joints, :, actions]].reset_index(drop=True))\n",
    "\n",
    "X1 = np.zeros((n_people * n_actions * n_joints, n_features, n_samples), dtype=np.float64)\n",
    "\n",
    "for z in range(len(X1)):\n",
    "    for j in range(len(l[z])):\n",
    "        for i in range(n_samples):\n",
    "            X1[z, j, i] = l[z][j][i]\n",
    "            \n",
    "         \n",
    "X1 = X1.reshape(-1, n_features)\n",
    "\n",
    "scaler = preprocessing.StandardScaler().fit(X1)\n",
    "\n",
    "X1 = scaler.transform(X1)\n",
    "\n"
   ]
  },
  {
   "cell_type": "code",
   "execution_count": 128,
   "metadata": {},
   "outputs": [
    {
     "data": {
      "image/png": "[encoded data removed]",
      "text/plain": [
       "<Figure size 432x288 with 1 Axes>"
      ]
     },
     "metadata": {
      "needs_background": "light"
     },
     "output_type": "display_data"
    }
   ],
   "source": [
    "kmeans = KMeans(n_clusters=2, random_state=0).fit(X1)\n",
    "y = kmeans.labels_\n",
    "plt.scatter(X1[:,0],X1[:,1])\n",
    "color = ['g','b']\n",
    "\n",
    "for i in range(0,2):\n",
    "    plt.scatter(X1[np.where(y==i),0],X1[np.where(y==i),1],color=color[i],alpha=0.3)\n"
   ]
  },
  {
   "cell_type": "markdown",
   "metadata": {},
   "source": [
    "Per visualizzare meglio quanto ottenuto uso PCA"
   ]
  },
  {
   "cell_type": "code",
   "execution_count": 79,
   "metadata": {},
   "outputs": [],
   "source": [
    "pca = decomposition.PCA(n_components=2)"
   ]
  },
  {
   "cell_type": "code",
   "execution_count": 80,
   "metadata": {},
   "outputs": [
    {
     "name": "stdout",
     "output_type": "stream",
     "text": [
      "(17600, 2)\n"
     ]
    }
   ],
   "source": [
    "X_pca = pca.fit_transform(X1)\n",
    "print(X_pca.shape)\n"
   ]
  },
  {
   "cell_type": "code",
   "execution_count": 81,
   "metadata": {
    "scrolled": true
   },
   "outputs": [
    {
     "data": {
      "image/png": "[encoded data removed]",
      "text/plain": [
       "<Figure size 432x288 with 1 Axes>"
      ]
     },
     "metadata": {
      "needs_background": "light"
     },
     "output_type": "display_data"
    }
   ],
   "source": [
    "for i in range(0,2):\n",
    "    plt.scatter(X_pca[np.where(y==i),0],X_pca[np.where(y==i),1],color=color[i],alpha=0.3)"
   ]
  },
  {
   "cell_type": "markdown",
   "metadata": {},
   "source": [
    "Per capire la correttezza misuriamo l'indice di silhouette"
   ]
  },
  {
   "cell_type": "code",
   "execution_count": 82,
   "metadata": {},
   "outputs": [],
   "source": [
    "from sklearn.metrics import silhouette_samples, silhouette_score\n",
    "def silhouette(x):\n",
    "    silhouette_avg = []\n",
    "    for i in range(2, 16):\n",
    "        kmeans = KMeans(n_clusters = i, max_iter = 20, random_state = 0)\n",
    "        cluster_labels = kmeans.fit_predict(x)\n",
    "        silhouette_avg.append(silhouette_score(x, cluster_labels))\n",
    "    \n",
    "    plt.plot(range(2, 16), silhouette_avg,'-o')\n",
    "    plt.title('The silhouette method')\n",
    "    plt.xlabel('Number of clusters')\n",
    "    plt.ylabel('silhouette coefficient') #within cluster sum of squares\n",
    "    plt.show()"
   ]
  },
  {
   "cell_type": "code",
   "execution_count": 83,
   "metadata": {
    "scrolled": true
   },
   "outputs": [
    {
     "data": {
      "image/png": "[encoded data removed]",
      "text/plain": [
       "<Figure size 432x288 with 1 Axes>"
      ]
     },
     "metadata": {
      "needs_background": "light"
     },
     "output_type": "display_data"
    }
   ],
   "source": [
    "silhouette(X1)"
   ]
  },
  {
   "cell_type": "markdown",
   "metadata": {},
   "source": [
    "Dal grafico risulta che il miglior indice di silhouette ottenibile è dividendo in due cluster.\n",
    "\n",
    "**TODO: ripetere test per le altre coppie di azioni simili**\n",
    "\n"
   ]
  },
  {
   "cell_type": "markdown",
   "metadata": {},
   "source": [
    "**TODO: aggiungere analisi della distrubuzione della velocità(e altre feature), e confrontarle tra azioni simili**\n",
    "\n",
    "**TODO: visualizzazione con spider web(???????????)**"
   ]
  },
  {
   "cell_type": "markdown",
   "metadata": {},
   "source": [
    "# Conclusioni\n",
    "\n",
    "Rispetto all'analisi dei dati svolta, posso dire che la correlazione tra le varie azioni di trasporto è molto alta dal punto di vista della frequenza e vale la stessa cosa per la correlazione di trasporto e tocco del cubo di rubik.\n",
    "\n",
    "Una scoperta interessante è data dal t-test in quanto risultano molto più simili tra loro le azioni di trasporto e tocco del cubo di rubik piutto che le varie azioni di trasporto, fatta eccezione per trasporto penna e trasporto cubo di rubik che hanno un p-value lievemente maggiore del livello di significatività.\n",
    "\n",
    "Per quanto riguarda la classificazione con regressione logistica tra azioni di trasporto e tocco del cubo di rubik non si arriva a buoni risultati, ma questo potrebbe essere dovuto al fatto che risultino simili dal t-test. Mentre la regresssione logistica fatta per classificare le varie azioni di trasporto (bottiglia, tocco, cubo di rubik) da cui ci aspettavamo buoni risultati in quanto dal t-test queste azioni sono considerate distinte, da inspiegabilmente pessimi risultati, anche più deludenti rispetto alla precedente, infatti il regression score è minore del 50%.\n",
    "\n",
    "Infine per quanto riguarda la clusterizzazione con kmeans riproponendo come cluster trasporto e tocco del cubo di rubik otteniamo che secondo l'indice di silhouette è corretto usare due cluster. Mentre la seconda clusterizzazione che divide in base alle persone, non da buoni risultati rispetto allo stesso indice."
   ]
  },
  {
   "cell_type": "code",
   "execution_count": null,
   "metadata": {},
   "outputs": [],
   "source": []
  }
 ],
 "metadata": {
  "kernelspec": {
   "display_name": "Python 3 (ipykernel)",
   "language": "python",
   "name": "python3"
  },
  "language_info": {
   "codemirror_mode": {
    "name": "ipython",
    "version": 3
   },
   "file_extension": ".py",
   "mimetype": "text/x-python",
   "name": "python",
   "nbconvert_exporter": "python",
   "pygments_lexer": "ipython3",
   "version": "3.9.7"
  }
 },
 "nbformat": 4,
 "nbformat_minor": 1
}
